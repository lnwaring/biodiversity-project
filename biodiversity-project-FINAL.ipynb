{
 "cells": [
  {
   "cell_type": "markdown",
   "id": "5683f8ad-e2d5-441f-a030-8df6ea70d0ec",
   "metadata": {},
   "source": [
    "# Biodiversity in National Parks\n",
    "\n",
    "## Structure\n",
    "- 1. Introduction\n",
    "- 2. Data Characteristics and Cleaning\n",
    "- 3. Analysis\n",
    "    - 3.1. What is the distribution of conservation status for each category?\n",
    "    - 3.2. Are certain types of species more likely to be endangered?\n",
    "    - 3.3. Are the differences between species and their conservation status significant?\n",
    "    - 3.4. Which species were spotted the most at each park?\n",
    "- 4. Conclusions"
   ]
  },
  {
   "cell_type": "markdown",
   "id": "4750840c-e5eb-4878-a689-77619ab4bd7b",
   "metadata": {},
   "source": [
    "## 1. Introduction\n",
    "The aim of this project is to analyse data from the National Parks Service about endangered species in different parks, and identify any patterns or themes in relation to the conservation statuses of these species.\n",
    "\n",
    "Below are the questions that this analysis will seek to answer:\n",
    "- What is the distribution of conservation status for species?\n",
    "- Which species are more likely to be endangered?\n",
    "- Are the differences between species and their conservation status significant?\n",
    "- Which species were spotted the most at each park, and what was their distribution?"
   ]
  },
  {
   "cell_type": "markdown",
   "id": "eabbcbc3-536c-4a59-bb3c-9e026c93f274",
   "metadata": {},
   "source": [
    "## 2. Data Characteristics and Cleaning"
   ]
  },
  {
   "cell_type": "code",
   "execution_count": 1,
   "id": "ea84cb00-0004-43f4-a497-b6115e710e55",
   "metadata": {},
   "outputs": [],
   "source": [
    "import pandas as pd\n",
    "import numpy as np\n",
    "\n",
    "from matplotlib import pyplot as plt\n",
    "import seaborn as sns\n",
    "\n",
    "%matplotlib inline"
   ]
  },
  {
   "cell_type": "markdown",
   "id": "229d2949-73c4-40a0-94a5-9c2c06ccafdd",
   "metadata": {},
   "source": [
    "The `species_info.csv` dataset has the following columns of data:\n",
    "- category - class of animal\n",
    "- scientific_name - the scientific name of each species\n",
    "- common_name - the common names of each species\n",
    "- conservation_status - each species’ current conservation status"
   ]
  },
  {
   "cell_type": "code",
   "execution_count": 2,
   "id": "0c6a3cf0-b027-419c-933f-54360fc00a68",
   "metadata": {},
   "outputs": [
    {
     "data": {
      "text/html": [
       "<div>\n",
       "<style scoped>\n",
       "    .dataframe tbody tr th:only-of-type {\n",
       "        vertical-align: middle;\n",
       "    }\n",
       "\n",
       "    .dataframe tbody tr th {\n",
       "        vertical-align: top;\n",
       "    }\n",
       "\n",
       "    .dataframe thead th {\n",
       "        text-align: right;\n",
       "    }\n",
       "</style>\n",
       "<table border=\"1\" class=\"dataframe\">\n",
       "  <thead>\n",
       "    <tr style=\"text-align: right;\">\n",
       "      <th></th>\n",
       "      <th>category</th>\n",
       "      <th>scientific_name</th>\n",
       "      <th>common_names</th>\n",
       "      <th>conservation_status</th>\n",
       "    </tr>\n",
       "  </thead>\n",
       "  <tbody>\n",
       "    <tr>\n",
       "      <th>0</th>\n",
       "      <td>Mammal</td>\n",
       "      <td>Clethrionomys gapperi gapperi</td>\n",
       "      <td>Gapper's Red-Backed Vole</td>\n",
       "      <td>NaN</td>\n",
       "    </tr>\n",
       "    <tr>\n",
       "      <th>1</th>\n",
       "      <td>Mammal</td>\n",
       "      <td>Bos bison</td>\n",
       "      <td>American Bison, Bison</td>\n",
       "      <td>NaN</td>\n",
       "    </tr>\n",
       "    <tr>\n",
       "      <th>2</th>\n",
       "      <td>Mammal</td>\n",
       "      <td>Bos taurus</td>\n",
       "      <td>Aurochs, Aurochs, Domestic Cattle (Feral), Dom...</td>\n",
       "      <td>NaN</td>\n",
       "    </tr>\n",
       "    <tr>\n",
       "      <th>3</th>\n",
       "      <td>Mammal</td>\n",
       "      <td>Ovis aries</td>\n",
       "      <td>Domestic Sheep, Mouflon, Red Sheep, Sheep (Feral)</td>\n",
       "      <td>NaN</td>\n",
       "    </tr>\n",
       "    <tr>\n",
       "      <th>4</th>\n",
       "      <td>Mammal</td>\n",
       "      <td>Cervus elaphus</td>\n",
       "      <td>Wapiti Or Elk</td>\n",
       "      <td>NaN</td>\n",
       "    </tr>\n",
       "  </tbody>\n",
       "</table>\n",
       "</div>"
      ],
      "text/plain": [
       "  category                scientific_name  \\\n",
       "0   Mammal  Clethrionomys gapperi gapperi   \n",
       "1   Mammal                      Bos bison   \n",
       "2   Mammal                     Bos taurus   \n",
       "3   Mammal                     Ovis aries   \n",
       "4   Mammal                 Cervus elaphus   \n",
       "\n",
       "                                        common_names conservation_status  \n",
       "0                           Gapper's Red-Backed Vole                 NaN  \n",
       "1                              American Bison, Bison                 NaN  \n",
       "2  Aurochs, Aurochs, Domestic Cattle (Feral), Dom...                 NaN  \n",
       "3  Domestic Sheep, Mouflon, Red Sheep, Sheep (Feral)                 NaN  \n",
       "4                                      Wapiti Or Elk                 NaN  "
      ]
     },
     "execution_count": 2,
     "metadata": {},
     "output_type": "execute_result"
    }
   ],
   "source": [
    "species = pd.read_csv('species_info.csv')\n",
    "species.head()"
   ]
  },
  {
   "cell_type": "markdown",
   "id": "71f328d8-4367-412a-98d2-b292bb112fdc",
   "metadata": {},
   "source": [
    "The `observations.csv` dataset had the following columns of data:\n",
    "- scientific_name - the scientific name of each species\n",
    "- park_name - Park where species were found\n",
    "- observations - the number of times each species was observed at park"
   ]
  },
  {
   "cell_type": "code",
   "execution_count": 5,
   "id": "f2a16f4c-c3f5-4e78-a708-1f0163c7b61e",
   "metadata": {},
   "outputs": [
    {
     "data": {
      "text/html": [
       "<div>\n",
       "<style scoped>\n",
       "    .dataframe tbody tr th:only-of-type {\n",
       "        vertical-align: middle;\n",
       "    }\n",
       "\n",
       "    .dataframe tbody tr th {\n",
       "        vertical-align: top;\n",
       "    }\n",
       "\n",
       "    .dataframe thead th {\n",
       "        text-align: right;\n",
       "    }\n",
       "</style>\n",
       "<table border=\"1\" class=\"dataframe\">\n",
       "  <thead>\n",
       "    <tr style=\"text-align: right;\">\n",
       "      <th></th>\n",
       "      <th>scientific_name</th>\n",
       "      <th>park_name</th>\n",
       "      <th>observations</th>\n",
       "    </tr>\n",
       "  </thead>\n",
       "  <tbody>\n",
       "    <tr>\n",
       "      <th>0</th>\n",
       "      <td>Vicia benghalensis</td>\n",
       "      <td>Great Smoky Mountains National Park</td>\n",
       "      <td>68</td>\n",
       "    </tr>\n",
       "    <tr>\n",
       "      <th>1</th>\n",
       "      <td>Neovison vison</td>\n",
       "      <td>Great Smoky Mountains National Park</td>\n",
       "      <td>77</td>\n",
       "    </tr>\n",
       "    <tr>\n",
       "      <th>2</th>\n",
       "      <td>Prunus subcordata</td>\n",
       "      <td>Yosemite National Park</td>\n",
       "      <td>138</td>\n",
       "    </tr>\n",
       "    <tr>\n",
       "      <th>3</th>\n",
       "      <td>Abutilon theophrasti</td>\n",
       "      <td>Bryce National Park</td>\n",
       "      <td>84</td>\n",
       "    </tr>\n",
       "    <tr>\n",
       "      <th>4</th>\n",
       "      <td>Githopsis specularioides</td>\n",
       "      <td>Great Smoky Mountains National Park</td>\n",
       "      <td>85</td>\n",
       "    </tr>\n",
       "  </tbody>\n",
       "</table>\n",
       "</div>"
      ],
      "text/plain": [
       "            scientific_name                            park_name  observations\n",
       "0        Vicia benghalensis  Great Smoky Mountains National Park            68\n",
       "1            Neovison vison  Great Smoky Mountains National Park            77\n",
       "2         Prunus subcordata               Yosemite National Park           138\n",
       "3      Abutilon theophrasti                  Bryce National Park            84\n",
       "4  Githopsis specularioides  Great Smoky Mountains National Park            85"
      ]
     },
     "execution_count": 5,
     "metadata": {},
     "output_type": "execute_result"
    }
   ],
   "source": [
    "observations = pd.read_csv('observations.csv')\n",
    "observations.head()"
   ]
  },
  {
   "cell_type": "markdown",
   "id": "8f9726b8-a0bb-4d9d-86e3-75af1222698a",
   "metadata": {},
   "source": [
    "Next, I am using .shape and .info() to gain a better understanding of the characteristics of each dataset. \n",
    "\n",
    "Some characteristics to note here are:\n",
    "- In both `species` and `observations`, there are variables that are objects that should be strings. I amend this in the next section.\n",
    "- In `species`, there are 5,824 entries, but `conservation_status` has 191 non-null counts. This is something to look into.\n",
    "\n",
    "I have checked for and removed any duplicated values in each DataFrame. "
   ]
  },
  {
   "cell_type": "code",
   "execution_count": 7,
   "id": "6a45dbdf-2bd2-40a6-a6dc-b828794b9d7f",
   "metadata": {},
   "outputs": [
    {
     "name": "stdout",
     "output_type": "stream",
     "text": [
      "species shape: (5824, 4)\n",
      "<class 'pandas.core.frame.DataFrame'>\n",
      "RangeIndex: 5824 entries, 0 to 5823\n",
      "Data columns (total 4 columns):\n",
      " #   Column               Non-Null Count  Dtype \n",
      "---  ------               --------------  ----- \n",
      " 0   category             5824 non-null   object\n",
      " 1   scientific_name      5824 non-null   object\n",
      " 2   common_names         5824 non-null   object\n",
      " 3   conservation_status  191 non-null    object\n",
      "dtypes: object(4)\n",
      "memory usage: 182.1+ KB\n",
      "None\n",
      "observations shape: (23296, 3)\n",
      "<class 'pandas.core.frame.DataFrame'>\n",
      "RangeIndex: 23296 entries, 0 to 23295\n",
      "Data columns (total 3 columns):\n",
      " #   Column           Non-Null Count  Dtype \n",
      "---  ------           --------------  ----- \n",
      " 0   scientific_name  23296 non-null  object\n",
      " 1   park_name        23296 non-null  object\n",
      " 2   observations     23296 non-null  int64 \n",
      "dtypes: int64(1), object(2)\n",
      "memory usage: 546.1+ KB\n",
      "None\n"
     ]
    }
   ],
   "source": [
    "print(f\"species shape: {species.shape}\")\n",
    "print(species.info())\n",
    "\n",
    "print(f\"observations shape: {observations.shape}\")\n",
    "print(observations.info())"
   ]
  },
  {
   "cell_type": "code",
   "execution_count": 9,
   "id": "96528d8f-ced1-48c6-b8b3-f71a30f79c8b",
   "metadata": {},
   "outputs": [
    {
     "name": "stdout",
     "output_type": "stream",
     "text": [
      "Duplicated valaues in Species:\n",
      " False    5824\n",
      "Name: count, dtype: int64\n",
      "Duplicated valaues in Observations:\n",
      " False    23281\n",
      "True        15\n",
      "Name: count, dtype: int64\n",
      "Duplicated valaues in Observations:\n",
      " False    23281\n",
      "Name: count, dtype: int64\n"
     ]
    }
   ],
   "source": [
    "# Amending data types from 'object' to 'string'\n",
    "species = species.astype('string')\n",
    "observations['scientific_name'] = observations['scientific_name'].astype('string')\n",
    "observations['park_name'] = observations['park_name'].astype('string')\n",
    "\n",
    "# Checing for duplicated values in each DataFrame\n",
    "print(f\"Duplicated valaues in Species:\\n {species.duplicated().value_counts()}\")\n",
    "print(f\"Duplicated valaues in Observations:\\n {observations.duplicated().value_counts()}\")\n",
    "\n",
    "#Dropping duplicated values from 'observations' and verifying by checking again\n",
    "observations = observations.drop_duplicates()\n",
    "print(f\"Duplicated valaues in Observations:\\n {observations.duplicated().value_counts()}\")"
   ]
  },
  {
   "cell_type": "markdown",
   "id": "87fe2f47-c39f-4ffb-b0c7-675b89455fcb",
   "metadata": {},
   "source": [
    "Starting with `species` I wanted to find out how many unique species are in the dataset. By examining the `scientific_name` column, I found that there are 5,541 unique species in the `species` DataFrame, even though there are 5,824 total entries. This indicates that some scientific names appear more than once.\n",
    "\n",
    "I also observed that some species have multiple common names. These are stored in the `common_names` column, but not all common names are recorded for every scientific name. As a result, some species appear multiple times, each with different common names, while others may be missing some or all of their common names.\n",
    "\n",
    "To simplify `species`, I will remove `common_names` and use `scientific_name` as the unique identifier for each species. This ensures consistency, as `scientific_name` is more standardised and avoids the inconsistencies and duplicates introduced by varying common names."
   ]
  },
  {
   "cell_type": "code",
   "execution_count": 11,
   "id": "96c9b471-973a-49c2-a628-1fc597a2b8b4",
   "metadata": {},
   "outputs": [
    {
     "name": "stdout",
     "output_type": "stream",
     "text": [
      "number of species: 5541\n",
      "scientific_name\n",
      "Agrostis capillaris     2\n",
      "Agrostis gigantea       2\n",
      "Agrostis mertensii      2\n",
      "Agrostis scabra         2\n",
      "Agrostis stolonifera    2\n",
      "                       ..\n",
      "Vireo solitarius        2\n",
      "Vulpia bromoides        2\n",
      "Vulpia myuros           2\n",
      "Vulpia octoflora        2\n",
      "Zizia aptera            2\n",
      "Length: 274, dtype: int64\n",
      "            category     scientific_name  \\\n",
      "2136  Vascular Plant  Agrostis mertensii   \n",
      "4178  Vascular Plant  Agrostis mertensii   \n",
      "\n",
      "                              common_names conservation_status  \n",
      "2136                     Northern Agrostis                <NA>  \n",
      "4178  Arctic Bentgrass, Northern Bentgrass                <NA>  \n",
      "            category scientific_name  \\\n",
      "2330  Vascular Plant   Vulpia myuros   \n",
      "5643  Vascular Plant   Vulpia myuros   \n",
      "\n",
      "                                           common_names conservation_status  \n",
      "2330                                     Rattail Fescue                <NA>  \n",
      "5643  Foxtail Fescue, Rattail Fescue, Rat-Tail Fescu...                <NA>  \n",
      "Duplicated valaues in Species:\n",
      " False    5543\n",
      "True      281\n",
      "Name: count, dtype: int64\n",
      "Duplicated valaues in Species:\n",
      " False    5543\n",
      "Name: count, dtype: int64\n"
     ]
    }
   ],
   "source": [
    "print(f\"number of species: {species.scientific_name.nunique()}\")\n",
    "\n",
    "# Checking for any multiple entries of each 'scientific_name'\n",
    "counts = species.groupby('scientific_name').size().loc[lambda x: x > 1]\n",
    "print(counts)\n",
    "\n",
    "#Filtering species to look more closely at the values for a specific 'scientific_name'\n",
    "check_1 = species[species['scientific_name'] == 'Agrostis mertensii']\n",
    "print(check_1)\n",
    "\n",
    "check_2 = species[species['scientific_name'] == 'Vulpia myuros']\n",
    "print(check_2)\n",
    "\n",
    "#Removing 'common_names' to simplify `species`, and removing duplicates from the resulting DataFrame\n",
    "species = species.drop(['common_names'], axis=1)\n",
    "print(f\"Duplicated valaues in Species:\\n {species.duplicated().value_counts()}\")\n",
    "species = species.drop_duplicates()\n",
    "print(f\"Duplicated valaues in Species:\\n {species.duplicated().value_counts()}\")"
   ]
  },
  {
   "cell_type": "markdown",
   "id": "faab6330-6212-42fd-9736-4d11efe5fef7",
   "metadata": {},
   "source": [
    "In the previous stage, I identified that there are null values in `conservation_status`. To take a closer look, I have grouped the data. Given that the majority of the dataset has been assigned `nan` as a `conservation_status` I have assumed that there are no concerns about these species. To make this clear, I have replaced the `nan` values with `No Intervention`."
   ]
  },
  {
   "cell_type": "code",
   "execution_count": 13,
   "id": "63d82e3d-88e4-47a3-9940-d472d0590bdc",
   "metadata": {},
   "outputs": [
    {
     "name": "stdout",
     "output_type": "stream",
     "text": [
      "Null values: 5363\n",
      "Not null values: 180\n"
     ]
    },
    {
     "data": {
      "text/plain": [
       "conservation_status\n",
       "Endangered             15\n",
       "In Recovery             4\n",
       "Species of Concern    151\n",
       "Threatened             10\n",
       "dtype: int64"
      ]
     },
     "execution_count": 13,
     "metadata": {},
     "output_type": "execute_result"
    }
   ],
   "source": [
    "# Looking at null values in the 'conservation_status' column\n",
    "print(f\"Null values: {species.conservation_status.isna().sum()}\")\n",
    "print(f\"Not null values: {species.conservation_status.notnull().sum()}\")\n",
    "species.groupby(\"conservation_status\").size()"
   ]
  },
  {
   "cell_type": "code",
   "execution_count": 15,
   "id": "1c380ce4-9cfb-4504-b6ca-f948ed5aa184",
   "metadata": {},
   "outputs": [
    {
     "name": "stdout",
     "output_type": "stream",
     "text": [
      "Null values: 0\n",
      "Not null values: 5543\n"
     ]
    },
    {
     "data": {
      "text/plain": [
       "conservation_status\n",
       "Endangered              15\n",
       "In Recovery              4\n",
       "No Intervention       5363\n",
       "Species of Concern     151\n",
       "Threatened              10\n",
       "dtype: int64"
      ]
     },
     "execution_count": 15,
     "metadata": {},
     "output_type": "execute_result"
    }
   ],
   "source": [
    "# Replacing null values in 'conservation_status' with 'No Intervention'\n",
    "species.fillna('No Intervention', inplace=True)\n",
    "print(f\"Null values: {species.conservation_status.isna().sum()}\")\n",
    "print(f\"Not null values: {species.conservation_status.notnull().sum()}\")\n",
    "species.groupby(\"conservation_status\").size()"
   ]
  },
  {
   "cell_type": "markdown",
   "id": "8a4f9c1d-de6f-4f0f-ba64-340883a84696",
   "metadata": {},
   "source": [
    "There is still a discrepancy between the number of unique scientific names (5,541) and the total entries (5,543) in `species` suggesting that there are two duplicates that I have missed. I carried out the checks again and identified two pairs of entries that shared the same scientific name but had different conservation statuses. For this analysis, I have assumed the worst and opted for the entry with the most concerning conservation status."
   ]
  },
  {
   "cell_type": "code",
   "execution_count": 17,
   "id": "0d7f5231-df77-45fb-a83f-363ae11c2441",
   "metadata": {},
   "outputs": [
    {
     "name": "stdout",
     "output_type": "stream",
     "text": [
      "number of species: 5541\n",
      "<class 'pandas.core.frame.DataFrame'>\n",
      "Index: 5543 entries, 0 to 5823\n",
      "Data columns (total 3 columns):\n",
      " #   Column               Non-Null Count  Dtype \n",
      "---  ------               --------------  ----- \n",
      " 0   category             5543 non-null   string\n",
      " 1   scientific_name      5543 non-null   string\n",
      " 2   conservation_status  5543 non-null   string\n",
      "dtypes: string(3)\n",
      "memory usage: 173.2 KB\n",
      "None\n",
      "scientific_name\n",
      "Canis lupus            2\n",
      "Oncorhynchus mykiss    2\n",
      "dtype: int64\n",
      "     category scientific_name conservation_status\n",
      "8      Mammal     Canis lupus          Endangered\n",
      "3020   Mammal     Canis lupus         In Recovery\n",
      "     category      scientific_name conservation_status\n",
      "560      Fish  Oncorhynchus mykiss     No Intervention\n",
      "3283     Fish  Oncorhynchus mykiss          Threatened\n"
     ]
    }
   ],
   "source": [
    "# Checking for duplicate entries\n",
    "print(f\"number of species: {species.scientific_name.nunique()}\")\n",
    "print(species.info())\n",
    "counts = species.groupby('scientific_name').size().loc[lambda x: x > 1]\n",
    "print(counts)\n",
    "\n",
    "# Looking at the duplicate entries in further detail\n",
    "check_3 = species[species['scientific_name'] == 'Canis lupus']\n",
    "print(check_3)\n",
    "\n",
    "check_4 = species[species['scientific_name'] == 'Oncorhynchus mykiss']\n",
    "print(check_4)"
   ]
  },
  {
   "cell_type": "code",
   "execution_count": 19,
   "id": "c36e4a05-7151-45c6-a791-bbb510202700",
   "metadata": {},
   "outputs": [
    {
     "name": "stdout",
     "output_type": "stream",
     "text": [
      "number of species: 5541\n",
      "<class 'pandas.core.frame.DataFrame'>\n",
      "Index: 5541 entries, 0 to 5823\n",
      "Data columns (total 3 columns):\n",
      " #   Column               Non-Null Count  Dtype \n",
      "---  ------               --------------  ----- \n",
      " 0   category             5541 non-null   string\n",
      " 1   scientific_name      5541 non-null   string\n",
      " 2   conservation_status  5541 non-null   string\n",
      "dtypes: string(3)\n",
      "memory usage: 173.2 KB\n",
      "None\n"
     ]
    }
   ],
   "source": [
    "# Removing the entries with the least concerning 'conservation_status'\n",
    "species.drop(species[(species['category'] == 'Mammal') & (species['scientific_name'] == 'Canis lupus') & (species['conservation_status'] == 'In Recovery')].index, inplace=True)\n",
    "species.drop(species[(species['category'] == 'Fish') & (species['scientific_name'] == 'Oncorhynchus mykiss') & (species['conservation_status'] == 'No Intervention')].index, inplace=True)\n",
    "\n",
    "# Conducting a final check on the number of unique species using 'scientific_name' and the number of entries in 'species' \n",
    "print(f\"number of species: {species.scientific_name.nunique()}\")\n",
    "print(species.info())"
   ]
  },
  {
   "cell_type": "markdown",
   "id": "3d4bf1f0-42ec-4b42-9614-c8df39428f50",
   "metadata": {},
   "source": [
    "Next, I want to understand the different types of species in the dataset. I can do this using the `category` column. There are 7 categories in `species`, including different categories of animals and plants. Taking a closer look, I have grouped the `category` column by size in order to see how many species there are for each type. In this dataset, the Vascular Plant category has the most amount of species (4,262), whilst the Reptile category has the fewest (79)."
   ]
  },
  {
   "cell_type": "code",
   "execution_count": 21,
   "id": "831ae7a7-bad0-4c18-b97a-f685310246ca",
   "metadata": {},
   "outputs": [
    {
     "name": "stdout",
     "output_type": "stream",
     "text": [
      "Categories: <StringArray>\n",
      "[           'Mammal',              'Bird',           'Reptile',\n",
      "         'Amphibian',              'Fish',    'Vascular Plant',\n",
      " 'Nonvascular Plant']\n",
      "Length: 7, dtype: string\n"
     ]
    },
    {
     "data": {
      "text/plain": [
       "category\n",
       "Amphibian              79\n",
       "Bird                  488\n",
       "Fish                  125\n",
       "Mammal                176\n",
       "Nonvascular Plant     333\n",
       "Reptile                78\n",
       "Vascular Plant       4262\n",
       "dtype: int64"
      ]
     },
     "execution_count": 21,
     "metadata": {},
     "output_type": "execute_result"
    }
   ],
   "source": [
    "# Looking at the different species categories and the total number of entries per category\n",
    "print(f\"Categories: {species.category.unique()}\")\n",
    "species.groupby(\"category\").size()"
   ]
  },
  {
   "cell_type": "markdown",
   "id": "3476138f-7d8d-4df4-ab89-935a2b43bc22",
   "metadata": {},
   "source": [
    "I will now look at `observations`. I have identified 4 National Parks in the `observations` dataset, and the total amount of observations is 3,312,429."
   ]
  },
  {
   "cell_type": "code",
   "execution_count": 23,
   "id": "6c527f07-4643-49ad-9e1b-608d9b509e36",
   "metadata": {},
   "outputs": [
    {
     "name": "stdout",
     "output_type": "stream",
     "text": [
      "National Parks: <StringArray>\n",
      "['Great Smoky Mountains National Park',              'Yosemite National Park',\n",
      "                 'Bryce National Park',           'Yellowstone National Park']\n",
      "Length: 4, dtype: string\n",
      "Total number of observations: 3312429\n"
     ]
    }
   ],
   "source": [
    "print(f\"National Parks: {observations.park_name.unique()}\")\n",
    "print(f\"Total number of observations: {observations.observations.sum()}\")"
   ]
  },
  {
   "cell_type": "code",
   "execution_count": 25,
   "id": "64a0b1cb-0a1f-4bf4-bc80-71373c787f03",
   "metadata": {},
   "outputs": [
    {
     "name": "stdout",
     "output_type": "stream",
     "text": [
      "            scientific_name                            park_name  observations\n",
      "0        Vicia benghalensis  Great Smoky Mountains National Park            68\n",
      "1            Neovison vison  Great Smoky Mountains National Park            77\n",
      "2         Prunus subcordata               Yosemite National Park           138\n",
      "3      Abutilon theophrasti                  Bryce National Park            84\n",
      "4  Githopsis specularioides  Great Smoky Mountains National Park            85\n",
      "  category                scientific_name conservation_status\n",
      "0   Mammal  Clethrionomys gapperi gapperi     No Intervention\n",
      "1   Mammal                      Bos bison     No Intervention\n",
      "2   Mammal                     Bos taurus     No Intervention\n",
      "3   Mammal                     Ovis aries     No Intervention\n",
      "4   Mammal                 Cervus elaphus     No Intervention\n"
     ]
    }
   ],
   "source": [
    "print(observations.head())\n",
    "print(species.head())"
   ]
  },
  {
   "cell_type": "markdown",
   "id": "199e79b2-ea4f-4b72-95f1-c9b9d7ca6fbf",
   "metadata": {},
   "source": [
    "Now that I have cleaned `species` and `observations` I have merged the DataFrames to create `all_data`, which I will use in the analysis section."
   ]
  },
  {
   "cell_type": "code",
   "execution_count": 27,
   "id": "de35dc2e-a482-426b-80b0-3f42d3607aad",
   "metadata": {},
   "outputs": [
    {
     "name": "stdout",
     "output_type": "stream",
     "text": [
      "<class 'pandas.core.frame.DataFrame'>\n",
      "RangeIndex: 23281 entries, 0 to 23280\n",
      "Data columns (total 5 columns):\n",
      " #   Column               Non-Null Count  Dtype \n",
      "---  ------               --------------  ----- \n",
      " 0   scientific_name      23281 non-null  string\n",
      " 1   park_name            23281 non-null  string\n",
      " 2   observations         23281 non-null  int64 \n",
      " 3   category             23281 non-null  string\n",
      " 4   conservation_status  23281 non-null  string\n",
      "dtypes: int64(1), string(4)\n",
      "memory usage: 909.5 KB\n",
      "None\n",
      "            scientific_name                            park_name  \\\n",
      "0        Vicia benghalensis  Great Smoky Mountains National Park   \n",
      "1            Neovison vison  Great Smoky Mountains National Park   \n",
      "2         Prunus subcordata               Yosemite National Park   \n",
      "3      Abutilon theophrasti                  Bryce National Park   \n",
      "4  Githopsis specularioides  Great Smoky Mountains National Park   \n",
      "\n",
      "   observations        category conservation_status  \n",
      "0            68  Vascular Plant     No Intervention  \n",
      "1            77          Mammal     No Intervention  \n",
      "2           138  Vascular Plant     No Intervention  \n",
      "3            84  Vascular Plant     No Intervention  \n",
      "4            85  Vascular Plant     No Intervention  \n"
     ]
    }
   ],
   "source": [
    "# Merging 'observations' and 'species' using a left join\n",
    "all_data = observations.merge(species, how='left', on='scientific_name')\n",
    "\n",
    "# Checking that info and first 5 rows of 'all_data' are as expected\n",
    "print(all_data.info())\n",
    "print(all_data.head())"
   ]
  },
  {
   "cell_type": "markdown",
   "id": "0bbce0c3-7384-40d8-a03d-89634b6a97a5",
   "metadata": {},
   "source": [
    "## 3. Analysis\n",
    "\n",
    "In this section I will use `species` and `all_data` in order to answer the questions I laid out in the introduction.\n",
    "\n",
    "#### 3.1. What is the distribution of conservation status for each category?"
   ]
  },
  {
   "cell_type": "markdown",
   "id": "8ea95399-097a-4ec7-97e0-4fb7b3f0f064",
   "metadata": {},
   "source": [
    "To begin my analysis of `conservation_status` I have filtered `species` to exclude any entries that have a `No Intervention` status, since I want to focus on species that are under some level of threat.\n",
    "\n",
    "Below is a chart and pivot table that look into the `category` split amongst each `conservation_status`. `Species of Concern` is the most populated conservation status, with the `Bird` category having the most amount of entries under this status (68), followed by `Vascular Plant` (43) and `Mammal` (22). Amongst the `Endangered` category, `Mammal` has the most entries, followed by `Bird` and `Fish`. The categroies `Nonvascular` and `Reptiles` have very low counts across all statuses. "
   ]
  },
  {
   "cell_type": "code",
   "execution_count": 386,
   "id": "55ae3659-5e32-4691-a00a-168048eae0ed",
   "metadata": {},
   "outputs": [
    {
     "data": {
      "text/html": [
       "<div>\n",
       "<style scoped>\n",
       "    .dataframe tbody tr th:only-of-type {\n",
       "        vertical-align: middle;\n",
       "    }\n",
       "\n",
       "    .dataframe tbody tr th {\n",
       "        vertical-align: top;\n",
       "    }\n",
       "\n",
       "    .dataframe thead th {\n",
       "        text-align: right;\n",
       "    }\n",
       "</style>\n",
       "<table border=\"1\" class=\"dataframe\">\n",
       "  <thead>\n",
       "    <tr style=\"text-align: right;\">\n",
       "      <th></th>\n",
       "      <th>conservation_status</th>\n",
       "      <th>scientific_name</th>\n",
       "      <th>percentage</th>\n",
       "    </tr>\n",
       "  </thead>\n",
       "  <tbody>\n",
       "    <tr>\n",
       "      <th>0</th>\n",
       "      <td>Species of Concern</td>\n",
       "      <td>151</td>\n",
       "      <td>84.0</td>\n",
       "    </tr>\n",
       "    <tr>\n",
       "      <th>1</th>\n",
       "      <td>Endangered</td>\n",
       "      <td>15</td>\n",
       "      <td>8.0</td>\n",
       "    </tr>\n",
       "    <tr>\n",
       "      <th>2</th>\n",
       "      <td>Threatened</td>\n",
       "      <td>10</td>\n",
       "      <td>6.0</td>\n",
       "    </tr>\n",
       "    <tr>\n",
       "      <th>3</th>\n",
       "      <td>In Recovery</td>\n",
       "      <td>3</td>\n",
       "      <td>2.0</td>\n",
       "    </tr>\n",
       "  </tbody>\n",
       "</table>\n",
       "</div>"
      ],
      "text/plain": [
       "  conservation_status  scientific_name  percentage\n",
       "0  Species of Concern              151        84.0\n",
       "1          Endangered               15         8.0\n",
       "2          Threatened               10         6.0\n",
       "3         In Recovery                3         2.0"
      ]
     },
     "metadata": {},
     "output_type": "display_data"
    },
    {
     "data": {
      "text/plain": [
       "<Figure size 640x480 with 0 Axes>"
      ]
     },
     "metadata": {},
     "output_type": "display_data"
    },
    {
     "data": {
      "image/png": "[encoded data removed]",
      "text/plain": [
       "<Figure size 800x600 with 1 Axes>"
      ]
     },
     "metadata": {},
     "output_type": "display_data"
    },
    {
     "data": {
      "text/html": [
       "<div>\n",
       "<style scoped>\n",
       "    .dataframe tbody tr th:only-of-type {\n",
       "        vertical-align: middle;\n",
       "    }\n",
       "\n",
       "    .dataframe tbody tr th {\n",
       "        vertical-align: top;\n",
       "    }\n",
       "\n",
       "    .dataframe thead th {\n",
       "        text-align: right;\n",
       "    }\n",
       "</style>\n",
       "<table border=\"1\" class=\"dataframe\">\n",
       "  <thead>\n",
       "    <tr style=\"text-align: right;\">\n",
       "      <th>category</th>\n",
       "      <th>conservation_status</th>\n",
       "      <th>Amphibian</th>\n",
       "      <th>Bird</th>\n",
       "      <th>Fish</th>\n",
       "      <th>Mammal</th>\n",
       "      <th>Nonvascular Plant</th>\n",
       "      <th>Reptile</th>\n",
       "      <th>Vascular Plant</th>\n",
       "    </tr>\n",
       "  </thead>\n",
       "  <tbody>\n",
       "    <tr>\n",
       "      <th>0</th>\n",
       "      <td>Endangered</td>\n",
       "      <td>1.0</td>\n",
       "      <td>4.0</td>\n",
       "      <td>3.0</td>\n",
       "      <td>6.0</td>\n",
       "      <td>0.0</td>\n",
       "      <td>0.0</td>\n",
       "      <td>1.0</td>\n",
       "    </tr>\n",
       "    <tr>\n",
       "      <th>1</th>\n",
       "      <td>In Recovery</td>\n",
       "      <td>0.0</td>\n",
       "      <td>3.0</td>\n",
       "      <td>0.0</td>\n",
       "      <td>0.0</td>\n",
       "      <td>0.0</td>\n",
       "      <td>0.0</td>\n",
       "      <td>0.0</td>\n",
       "    </tr>\n",
       "    <tr>\n",
       "      <th>2</th>\n",
       "      <td>Species of Concern</td>\n",
       "      <td>4.0</td>\n",
       "      <td>68.0</td>\n",
       "      <td>4.0</td>\n",
       "      <td>22.0</td>\n",
       "      <td>5.0</td>\n",
       "      <td>5.0</td>\n",
       "      <td>43.0</td>\n",
       "    </tr>\n",
       "    <tr>\n",
       "      <th>3</th>\n",
       "      <td>Threatened</td>\n",
       "      <td>2.0</td>\n",
       "      <td>0.0</td>\n",
       "      <td>4.0</td>\n",
       "      <td>2.0</td>\n",
       "      <td>0.0</td>\n",
       "      <td>0.0</td>\n",
       "      <td>2.0</td>\n",
       "    </tr>\n",
       "  </tbody>\n",
       "</table>\n",
       "</div>"
      ],
      "text/plain": [
       "category conservation_status  Amphibian  Bird  Fish  Mammal  \\\n",
       "0                 Endangered        1.0   4.0   3.0     6.0   \n",
       "1                In Recovery        0.0   3.0   0.0     0.0   \n",
       "2         Species of Concern        4.0  68.0   4.0    22.0   \n",
       "3                 Threatened        2.0   0.0   4.0     2.0   \n",
       "\n",
       "category  Nonvascular Plant  Reptile  Vascular Plant  \n",
       "0                       0.0      0.0             1.0  \n",
       "1                       0.0      0.0             0.0  \n",
       "2                       5.0      5.0            43.0  \n",
       "3                       0.0      0.0             2.0  "
      ]
     },
     "metadata": {},
     "output_type": "display_data"
    }
   ],
   "source": [
    "# Filtering `species` to remove entries with `No Intervention`\n",
    "conservation_data = species[species['conservation_status'] != 'No Intervention']\n",
    "\n",
    "# Looking at the % split for each 'conservation_status'\n",
    "conservations_counts = conservation_data.groupby('conservation_status').scientific_name.nunique().reset_index()\n",
    "conservations_counts['percentage'] = round(conservations_counts.scientific_name / conservations_counts.scientific_name.sum() * 100)\n",
    "conservations_counts = conservations_counts.sort_values(by='percentage', ascending=False).reset_index(drop=True)\n",
    "display(conservations_counts)\n",
    "\n",
    "# Counting the number of occurrences of each 'conservation_status' and 'category' combination\n",
    "counts = conservation_data.groupby(['conservation_status', 'category']).size().unstack(fill_value=0)\n",
    "\n",
    "# Using 'counts' to create stacked bar chart\n",
    "counts.plot(kind='bar', stacked=True, figsize=(8, 6), colormap='tab20')\n",
    "plt.title('Distribution of Conservation Status by Category')\n",
    "plt.ylabel('Number of Species', size=12)\n",
    "plt.xlabel('Conservation Status', size=12)\n",
    "plt.xticks(rotation=45)\n",
    "plt.legend(title='Category', bbox_to_anchor=(1.05, 1), loc='upper left')\n",
    "plt.tight_layout()\n",
    "plt.show()\n",
    "plt.clf()\n",
    "\n",
    "# Supporting pivot table for 'conservation_status' and 'category'\n",
    "pivot_table = conservation_data.pivot_table(columns='category', index='conservation_status', values='scientific_name', aggfunc='count').fillna(0).reset_index()\n",
    "display(pivot_table)"
   ]
  },
  {
   "cell_type": "markdown",
   "id": "ede22cc1-7202-4d3c-8300-ca1dba58d310",
   "metadata": {},
   "source": [
    "#### 3.2. Are certain types of species more likely to be endangered?\n",
    "\n",
    "The next questions asks whether certain types of species are more likely to be endangered. To answer this, I have added a new column `is_protected` which will report `True` for any species with a `conservation_status` different to `No Intervention`."
   ]
  },
  {
   "cell_type": "code",
   "execution_count": 112,
   "id": "e6bb32d0-b8ff-4b10-a8c8-52ffb0dc0eba",
   "metadata": {},
   "outputs": [],
   "source": [
    "species['is_protected'] = species.conservation_status != 'No Intervention'"
   ]
  },
  {
   "cell_type": "markdown",
   "id": "3649dadd-31ef-4cf1-a10e-3c40a943907b",
   "metadata": {},
   "source": [
    "In order to see which species are more likely to be endangered, I have grouped the data by `category` and `is_protected` to show the quantity of species per category group that is and isn't protected."
   ]
  },
  {
   "cell_type": "code",
   "execution_count": 117,
   "id": "2ab679ba-805e-4b26-bbab-769572a3a47b",
   "metadata": {},
   "outputs": [
    {
     "data": {
      "text/html": [
       "<div>\n",
       "<style scoped>\n",
       "    .dataframe tbody tr th:only-of-type {\n",
       "        vertical-align: middle;\n",
       "    }\n",
       "\n",
       "    .dataframe tbody tr th {\n",
       "        vertical-align: top;\n",
       "    }\n",
       "\n",
       "    .dataframe thead th {\n",
       "        text-align: right;\n",
       "    }\n",
       "</style>\n",
       "<table border=\"1\" class=\"dataframe\">\n",
       "  <thead>\n",
       "    <tr style=\"text-align: right;\">\n",
       "      <th></th>\n",
       "      <th>category</th>\n",
       "      <th>not_protected</th>\n",
       "      <th>protected</th>\n",
       "    </tr>\n",
       "  </thead>\n",
       "  <tbody>\n",
       "    <tr>\n",
       "      <th>0</th>\n",
       "      <td>Amphibian</td>\n",
       "      <td>72</td>\n",
       "      <td>7</td>\n",
       "    </tr>\n",
       "    <tr>\n",
       "      <th>1</th>\n",
       "      <td>Bird</td>\n",
       "      <td>413</td>\n",
       "      <td>75</td>\n",
       "    </tr>\n",
       "    <tr>\n",
       "      <th>2</th>\n",
       "      <td>Fish</td>\n",
       "      <td>114</td>\n",
       "      <td>11</td>\n",
       "    </tr>\n",
       "    <tr>\n",
       "      <th>3</th>\n",
       "      <td>Mammal</td>\n",
       "      <td>146</td>\n",
       "      <td>30</td>\n",
       "    </tr>\n",
       "    <tr>\n",
       "      <th>4</th>\n",
       "      <td>Nonvascular Plant</td>\n",
       "      <td>328</td>\n",
       "      <td>5</td>\n",
       "    </tr>\n",
       "    <tr>\n",
       "      <th>5</th>\n",
       "      <td>Reptile</td>\n",
       "      <td>73</td>\n",
       "      <td>5</td>\n",
       "    </tr>\n",
       "    <tr>\n",
       "      <th>6</th>\n",
       "      <td>Vascular Plant</td>\n",
       "      <td>4216</td>\n",
       "      <td>46</td>\n",
       "    </tr>\n",
       "  </tbody>\n",
       "</table>\n",
       "</div>"
      ],
      "text/plain": [
       "            category  not_protected  protected\n",
       "0          Amphibian             72          7\n",
       "1               Bird            413         75\n",
       "2               Fish            114         11\n",
       "3             Mammal            146         30\n",
       "4  Nonvascular Plant            328          5\n",
       "5            Reptile             73          5\n",
       "6     Vascular Plant           4216         46"
      ]
     },
     "execution_count": 117,
     "metadata": {},
     "output_type": "execute_result"
    }
   ],
   "source": [
    "category_counts = species.groupby(['category', 'is_protected']).scientific_name.nunique().reset_index().pivot(columns='is_protected', index='category', values='scientific_name').reset_index()\n",
    "category_counts.columns = ['category', 'not_protected', 'protected']\n",
    "category_counts"
   ]
  },
  {
   "cell_type": "markdown",
   "id": "337bc54d-ab13-4d4a-8103-a5b7a5d60d8e",
   "metadata": {},
   "source": [
    "Whilst this summary is useful, it would be better to convert the values into percentages in order to clearly see which category has the highest proportion of protected species. Below I have added the column `percentage_protected` to the summary table. The `Mammal` category has the highest percentage of protected species at 17%, closely followed by `Bird` at 15%."
   ]
  },
  {
   "cell_type": "code",
   "execution_count": 128,
   "id": "39c7c2db-6262-42b7-9413-2ea39db5c123",
   "metadata": {},
   "outputs": [
    {
     "data": {
      "text/html": [
       "<div>\n",
       "<style scoped>\n",
       "    .dataframe tbody tr th:only-of-type {\n",
       "        vertical-align: middle;\n",
       "    }\n",
       "\n",
       "    .dataframe tbody tr th {\n",
       "        vertical-align: top;\n",
       "    }\n",
       "\n",
       "    .dataframe thead th {\n",
       "        text-align: right;\n",
       "    }\n",
       "</style>\n",
       "<table border=\"1\" class=\"dataframe\">\n",
       "  <thead>\n",
       "    <tr style=\"text-align: right;\">\n",
       "      <th></th>\n",
       "      <th>category</th>\n",
       "      <th>not_protected</th>\n",
       "      <th>protected</th>\n",
       "      <th>percentage_protected</th>\n",
       "    </tr>\n",
       "  </thead>\n",
       "  <tbody>\n",
       "    <tr>\n",
       "      <th>0</th>\n",
       "      <td>Mammal</td>\n",
       "      <td>146</td>\n",
       "      <td>30</td>\n",
       "      <td>17.0</td>\n",
       "    </tr>\n",
       "    <tr>\n",
       "      <th>1</th>\n",
       "      <td>Bird</td>\n",
       "      <td>413</td>\n",
       "      <td>75</td>\n",
       "      <td>15.0</td>\n",
       "    </tr>\n",
       "    <tr>\n",
       "      <th>2</th>\n",
       "      <td>Amphibian</td>\n",
       "      <td>72</td>\n",
       "      <td>7</td>\n",
       "      <td>9.0</td>\n",
       "    </tr>\n",
       "    <tr>\n",
       "      <th>3</th>\n",
       "      <td>Fish</td>\n",
       "      <td>114</td>\n",
       "      <td>11</td>\n",
       "      <td>9.0</td>\n",
       "    </tr>\n",
       "    <tr>\n",
       "      <th>4</th>\n",
       "      <td>Reptile</td>\n",
       "      <td>73</td>\n",
       "      <td>5</td>\n",
       "      <td>6.0</td>\n",
       "    </tr>\n",
       "    <tr>\n",
       "      <th>5</th>\n",
       "      <td>Nonvascular Plant</td>\n",
       "      <td>328</td>\n",
       "      <td>5</td>\n",
       "      <td>2.0</td>\n",
       "    </tr>\n",
       "    <tr>\n",
       "      <th>6</th>\n",
       "      <td>Vascular Plant</td>\n",
       "      <td>4216</td>\n",
       "      <td>46</td>\n",
       "      <td>1.0</td>\n",
       "    </tr>\n",
       "  </tbody>\n",
       "</table>\n",
       "</div>"
      ],
      "text/plain": [
       "            category  not_protected  protected  percentage_protected\n",
       "0             Mammal            146         30                  17.0\n",
       "1               Bird            413         75                  15.0\n",
       "2          Amphibian             72          7                   9.0\n",
       "3               Fish            114         11                   9.0\n",
       "4            Reptile             73          5                   6.0\n",
       "5  Nonvascular Plant            328          5                   2.0\n",
       "6     Vascular Plant           4216         46                   1.0"
      ]
     },
     "execution_count": 128,
     "metadata": {},
     "output_type": "execute_result"
    }
   ],
   "source": [
    "category_counts['percentage_protected'] = round(category_counts.protected/(category_counts.not_protected + category_counts.protected) * 100)\n",
    "category_counts = category_counts.sort_values(by='percentage_protected', ascending=False).reset_index(drop=True)\n",
    "category_counts"
   ]
  },
  {
   "cell_type": "markdown",
   "id": "cf79b59e-4517-483f-904a-fe8f555d4dec",
   "metadata": {},
   "source": [
    "#### 3.3. Are the differences between species and their conservation status significant?\n",
    "\n",
    "In this section I will conduct chi-squared tests to determine whether different species have statistically significant differences in conservation statuses. In order to do so, I will create contingency tables like the below, which will enable me to determine the p-value. \n",
    "\n",
    "|    category     | protected | not protected |\n",
    "|-----------------|-----------|---------------|\n",
    "| **e.g. Mammal** | ?         | ?             |\n",
    "| **e.g. Bird**   | ?         | ?             |\n",
    "\n",
    "\n",
    "Firstly, I have created `contingency_1` which is observing the categories `Mammal` and `Bird`. The result of the chi-squared test is a p-value of 0.69. This is much greater than the significance threshold of 0.05, therefore the observed difference in conservation status between birds and mammals is not statistically significant, meaning that birds aren't more or less likely to be protected than mammals."
   ]
  },
  {
   "cell_type": "code",
   "execution_count": 134,
   "id": "184445bd-b6d9-430d-948a-3d4f946406d9",
   "metadata": {},
   "outputs": [
    {
     "name": "stdout",
     "output_type": "stream",
     "text": [
      "P-value: 0.6875948096661336\n"
     ]
    }
   ],
   "source": [
    "contingency_1 = np.array([[30, 146], [75, 413]])\n",
    "\n",
    "from scipy.stats import chi2_contingency \n",
    "\n",
    "chi2, pval, dof, expected = chi2_contingency(contingency_1)\n",
    "\n",
    "print(f\"P-value: {pval}\")"
   ]
  },
  {
   "cell_type": "markdown",
   "id": "c1a562c0-1187-4f66-b7af-23efd433eee9",
   "metadata": {},
   "source": [
    "Next, I have created `contingency_2` to test the difference between `Mammal` and `Reptile`. The result of the chi-squared test is a p-value of 0.038. This is less than the significance threshold of 0.05, therefore there is likely a real difference in conservation status between mammals and reptiles."
   ]
  },
  {
   "cell_type": "code",
   "execution_count": 149,
   "id": "bd7f01db-9ada-4915-b662-366bdcba2abd",
   "metadata": {},
   "outputs": [
    {
     "name": "stdout",
     "output_type": "stream",
     "text": [
      "P-value: 0.03835559022969898\n"
     ]
    }
   ],
   "source": [
    "contingency_2 = np.array([[30, 146], [5, 73]])\n",
    "\n",
    "chi2, pval, dof, expected = chi2_contingency(contingency_2)\n",
    "\n",
    "print(f\"P-value: {pval}\")"
   ]
  },
  {
   "cell_type": "markdown",
   "id": "3f6c4c40-438b-4102-ba9c-667ed91fe044",
   "metadata": {},
   "source": [
    "Finally, I have created `contingency_3` to test the difference between `Nonvascular Plant` and `Vascular Plant`. The result of the chi-squared test is a p-value of 0.66. Similarly to `contingency_1`, this is greater than the significance threshold of 0.05, therefore the observed difference in conservation status between nonvascaular and vascular plants is not statistically significant."
   ]
  },
  {
   "cell_type": "code",
   "execution_count": 144,
   "id": "b6dcaa0d-437b-425e-bcc4-36bb15584494",
   "metadata": {},
   "outputs": [
    {
     "name": "stdout",
     "output_type": "stream",
     "text": [
      "P-value: 0.6623419491381985\n"
     ]
    }
   ],
   "source": [
    "contingency_3 = np.array([[5, 328], [46, 4216]])\n",
    "\n",
    "chi2, pval, dof, expected = chi2_contingency(contingency_3)\n",
    "\n",
    "print(f\"P-value: {pval}\")"
   ]
  },
  {
   "cell_type": "markdown",
   "id": "2aec275e-6511-4842-b6b4-44d3c521dd38",
   "metadata": {},
   "source": [
    "#### 3.4. Which species were spotted the most at each park?\n",
    "\n",
    "The final question seeks to understand the number of observations by park.\n",
    "\n",
    "Below is a chart that displays the total number of observations by park. This is supported by the summary table below. `Yellowstone` has the most observations (over 1.4 million), and Great Smokey Mountains has the least (just over 431k). "
   ]
  },
  {
   "cell_type": "code",
   "execution_count": 350,
   "id": "34b4378c-9570-49eb-abba-04cf71755c68",
   "metadata": {},
   "outputs": [
    {
     "data": {
      "text/plain": [
       "<Figure size 640x480 with 0 Axes>"
      ]
     },
     "metadata": {},
     "output_type": "display_data"
    },
    {
     "data": {
      "image/png": "[encoded data removed]",
      "text/plain": [
       "<Figure size 600x600 with 1 Axes>"
      ]
     },
     "metadata": {},
     "output_type": "display_data"
    },
    {
     "data": {
      "text/html": [
       "<div>\n",
       "<style scoped>\n",
       "    .dataframe tbody tr th:only-of-type {\n",
       "        vertical-align: middle;\n",
       "    }\n",
       "\n",
       "    .dataframe tbody tr th {\n",
       "        vertical-align: top;\n",
       "    }\n",
       "\n",
       "    .dataframe thead th {\n",
       "        text-align: right;\n",
       "    }\n",
       "</style>\n",
       "<table border=\"1\" class=\"dataframe\">\n",
       "  <thead>\n",
       "    <tr style=\"text-align: right;\">\n",
       "      <th></th>\n",
       "      <th>park_name</th>\n",
       "      <th>observations</th>\n",
       "    </tr>\n",
       "  </thead>\n",
       "  <tbody>\n",
       "    <tr>\n",
       "      <th>0</th>\n",
       "      <td>Bryce National Park</td>\n",
       "      <td>575901</td>\n",
       "    </tr>\n",
       "    <tr>\n",
       "      <th>1</th>\n",
       "      <td>Great Smoky Mountains National Park</td>\n",
       "      <td>431378</td>\n",
       "    </tr>\n",
       "    <tr>\n",
       "      <th>2</th>\n",
       "      <td>Yellowstone National Park</td>\n",
       "      <td>1442314</td>\n",
       "    </tr>\n",
       "    <tr>\n",
       "      <th>3</th>\n",
       "      <td>Yosemite National Park</td>\n",
       "      <td>862836</td>\n",
       "    </tr>\n",
       "  </tbody>\n",
       "</table>\n",
       "</div>"
      ],
      "text/plain": [
       "                             park_name  observations\n",
       "0                  Bryce National Park        575901\n",
       "1  Great Smoky Mountains National Park        431378\n",
       "2            Yellowstone National Park       1442314\n",
       "3               Yosemite National Park        862836"
      ]
     },
     "metadata": {},
     "output_type": "display_data"
    }
   ],
   "source": [
    "# Grouping 'all_data' by 'park_name' and the sum of 'observations'\n",
    "park_observations = all_data.groupby('park_name').observations.sum().reset_index()\n",
    "\n",
    "# Removing 'National Park' from each park name to make the bar chart less cluttered \n",
    "parks = [park.replace('National Park', '').strip() for park in park_observations.park_name]\n",
    "\n",
    "plt.figure(figsize=(6, 6))\n",
    "colours = ['orange', 'skyblue', 'lightgreen', 'pink']\n",
    "plt.bar(range(len(park_observations)), park_observations.observations, color=colours)\n",
    "plt.title('Distribution of Observations by National Park', size=12)\n",
    "plt.xlabel('Park Name', size=11)\n",
    "plt.ylabel('Observations (Millions)', size=11)\n",
    "plt.xticks(ticks=range(len(parks)), labels=parks, rotation=30, size=9)\n",
    "plt.tight_layout()\n",
    "plt.show()\n",
    "plt.clf()\n",
    "\n",
    "display(park_observations)"
   ]
  },
  {
   "cell_type": "markdown",
   "id": "349f81d5-c776-45fe-8a83-edc39a142745",
   "metadata": {},
   "source": [
    "Next, I examined the total number of `observations` per `category` across all parks and found that `Vascular Plant` had the highest count by a large margin. This suggested it might also be the most observed category within each individual park. \n",
    "\n",
    "To verify this, I generated a summary table showing the category with the highest number of observations. The results confirmed that `Vascular Plant` was the most observed category in every park."
   ]
  },
  {
   "cell_type": "code",
   "execution_count": 348,
   "id": "a63fdab8-18d1-4ac1-b2fb-a0b6ec58d82c",
   "metadata": {},
   "outputs": [
    {
     "data": {
      "text/plain": [
       "<Figure size 640x480 with 0 Axes>"
      ]
     },
     "metadata": {},
     "output_type": "display_data"
    },
    {
     "data": {
      "image/png": "[encoded data removed]",
      "text/plain": [
       "<Figure size 600x600 with 1 Axes>"
      ]
     },
     "metadata": {},
     "output_type": "display_data"
    },
    {
     "data": {
      "text/html": [
       "<div>\n",
       "<style scoped>\n",
       "    .dataframe tbody tr th:only-of-type {\n",
       "        vertical-align: middle;\n",
       "    }\n",
       "\n",
       "    .dataframe tbody tr th {\n",
       "        vertical-align: top;\n",
       "    }\n",
       "\n",
       "    .dataframe thead th {\n",
       "        text-align: right;\n",
       "    }\n",
       "</style>\n",
       "<table border=\"1\" class=\"dataframe\">\n",
       "  <thead>\n",
       "    <tr style=\"text-align: right;\">\n",
       "      <th></th>\n",
       "      <th>park_name</th>\n",
       "      <th>most_observed_category</th>\n",
       "      <th>max_observation_count</th>\n",
       "    </tr>\n",
       "  </thead>\n",
       "  <tbody>\n",
       "    <tr>\n",
       "      <th>0</th>\n",
       "      <td>Bryce National Park</td>\n",
       "      <td>Vascular Plant</td>\n",
       "      <td>442959.0</td>\n",
       "    </tr>\n",
       "    <tr>\n",
       "      <th>1</th>\n",
       "      <td>Great Smoky Mountains National Park</td>\n",
       "      <td>Vascular Plant</td>\n",
       "      <td>333177.0</td>\n",
       "    </tr>\n",
       "    <tr>\n",
       "      <th>2</th>\n",
       "      <td>Yellowstone National Park</td>\n",
       "      <td>Vascular Plant</td>\n",
       "      <td>1112190.0</td>\n",
       "    </tr>\n",
       "    <tr>\n",
       "      <th>3</th>\n",
       "      <td>Yosemite National Park</td>\n",
       "      <td>Vascular Plant</td>\n",
       "      <td>664965.0</td>\n",
       "    </tr>\n",
       "  </tbody>\n",
       "</table>\n",
       "</div>"
      ],
      "text/plain": [
       "                             park_name most_observed_category  \\\n",
       "0                  Bryce National Park         Vascular Plant   \n",
       "1  Great Smoky Mountains National Park         Vascular Plant   \n",
       "2            Yellowstone National Park         Vascular Plant   \n",
       "3               Yosemite National Park         Vascular Plant   \n",
       "\n",
       "   max_observation_count  \n",
       "0               442959.0  \n",
       "1               333177.0  \n",
       "2              1112190.0  \n",
       "3               664965.0  "
      ]
     },
     "metadata": {},
     "output_type": "display_data"
    },
    {
     "data": {
      "text/plain": [
       "<Figure size 640x480 with 0 Axes>"
      ]
     },
     "metadata": {},
     "output_type": "display_data"
    },
    {
     "data": {
      "image/png": "[encoded data removed]",
      "text/plain": [
       "<Figure size 600x600 with 1 Axes>"
      ]
     },
     "metadata": {},
     "output_type": "display_data"
    }
   ],
   "source": [
    "# To create a bar chart showing the total number of 'observations' per category\n",
    "category_observations = all_data.groupby('category').observations.sum().reset_index()\n",
    "category_observations = category_observations.sort_values(by='observations')\n",
    "\n",
    "plt.figure(figsize=(6, 6))\n",
    "plt.bar(range(len(category_observations)), category_observations.observations)\n",
    "plt.title('Distribution of Observations by Category', size=12)\n",
    "plt.xlabel('Category', size=11)\n",
    "plt.ylabel('Observations (Millions)', size=11)\n",
    "plt.xticks(ticks=range(len(category_observations)), labels=category_observations['category'], rotation=30, size=9)\n",
    "plt.tight_layout()\n",
    "plt.show()\n",
    "plt.clf()\n",
    "\n",
    "# Finding the category with the highest observation count for each park\n",
    "total_observations = all_data.groupby(['park_name', 'category'])['observations'].sum().reset_index()\n",
    "pivot = total_observations.pivot_table(index='park_name', columns='category', values='observations').reset_index()\n",
    "pivot.set_index('park_name', inplace=True)\n",
    "most_observed_category = pivot.idxmax(axis=1)\n",
    "max_observation_count = pivot.max(axis=1)\n",
    "\n",
    "# Summary table showing the category with the most observations for each park\n",
    "result = pd.DataFrame({'most_observed_category': most_observed_category, 'max_observation_count': max_observation_count}).reset_index()\n",
    "display(result)\n",
    "\n",
    "# Bar chart comparing the total observations of `Vascular Plant` in each park\n",
    "plt.figure(figsize=(6, 6))\n",
    "plt.bar(range(len(result)), result.max_observation_count, color=colours)\n",
    "plt.title('Vascular Plant Observations by Park', size=12)\n",
    "plt.xlabel('National Park', size=11)\n",
    "plt.ylabel('Observations (Millions)', size=11)\n",
    "plt.xticks(ticks=range(len(result)), labels=parks, rotation=30, size=9)\n",
    "plt.tight_layout()\n",
    "plt.show()\n",
    "plt.clf()"
   ]
  },
  {
   "cell_type": "markdown",
   "id": "06c7769d-0ebe-465e-beb3-d2ab9a516fcd",
   "metadata": {},
   "source": [
    "## 4. Conclusions\n",
    "\n",
    "This analysis aimed to explore patterns in species protection and observation across different species groups and national parks.\n",
    "\n",
    "Out of all species with a conservation status other than ‘No Intervention’, 84% were classified as ‘Species of Concern’. Among these, birds accounted for the largest number, followed by vascular plants and mammals. This suggests that conservation efforts might be most effective if focused on the many species falling under the ‘Species of Concern’ category, particularly birds.\n",
    "\n",
    "Mammals and birds had the highest number of species under some form of protection. Combined, they make up 32% of all protected species. While this may indicate that these groups face higher conservation pressures, it could also reflect prioritisation in conservation policy or greater public and scientific attention towards these groups.\n",
    "\n",
    "I compared conservation statuses across several species groups - mammals vs. birds, mammals vs. reptiles, and nonvascular vs. vascular plants. Among the pairs examined, only the difference between mammals and reptiles was statistically significant. This suggests mammals are more likely to receive protection than reptiles, and that this pattern is unlikely to be due to chance. The lack of a significant difference between mammals and birds aligns with their similar levels of protection, indicating that neither group is disproportionately prioritised over the other.\n",
    "\n",
    "Finally, vascular plants had the most observations overall, as well as in each National Park. This number was significantly higher than other species groups, such as mammals and birds, indicating a strong presence or better detectability of plant species across the parks. A useful next step could be to test whether the difference in observation counts between vascular plants and other groups, such as mammals, is statistically significant. This would help to determine whether the observed difference is meaningful or more likely due to chance.\n",
    "\n",
    "For further study, it would be valuable to look at observations at different times of the year. Species behaviour and seasonal variability are likely to have an impact on observations, therefore recording observations on a quarterly basis might provide some new insights into seasonal trends. Additionally, if data is available across multiple years, analysing changes in the species counts for each conservation status over time would offer a better understanding of the effectiveness of conservation efforts in the parks."
   ]
  }
 ],
 "metadata": {
  "kernelspec": {
   "display_name": "Python [conda env:base] *",
   "language": "python",
   "name": "conda-base-py"
  },
  "language_info": {
   "codemirror_mode": {
    "name": "ipython",
    "version": 3
   },
   "file_extension": ".py",
   "mimetype": "text/x-python",
   "name": "python",
   "nbconvert_exporter": "python",
   "pygments_lexer": "ipython3",
   "version": "3.12.7"
  }
 },
 "nbformat": 4,
 "nbformat_minor": 5
}
