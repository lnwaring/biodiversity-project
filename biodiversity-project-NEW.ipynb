{
 "cells": [
  {
   "cell_type": "markdown",
   "id": "5683f8ad-e2d5-441f-a030-8df6ea70d0ec",
   "metadata": {},
   "source": [
    "# Biodiversity in National Parks\n",
    "\n",
    "## Structure\n",
    "- 1. Introduction\n",
    "- 2. Data Characteristics and Cleaning\n",
    "- 3. Analysis\n",
    "    - 3.1 Conservation Status\n",
    "    - 3.2 Endangered Species\n",
    "    - 3.3 Differences Between Different Species and Conservation Status\n",
    "    - 3.4 Observations by Park\n",
    "- 4. Conclusions"
   ]
  },
  {
   "cell_type": "markdown",
   "id": "4750840c-e5eb-4878-a689-77619ab4bd7b",
   "metadata": {},
   "source": [
    "## 1. Introduction\n",
    "The aim of this project is to analyse data from the National Parks Service about endangered species in different parks, and identify any patterns or themes in relation to the conservation statuses of these species.\n",
    "\n",
    "Below are the questions that this analysis will seek to answer:\n",
    "- What is the distribution of conservation status for species?\n",
    "- Which species are more likely to be endangered?\n",
    "- Are the differences between species and their conservation status significant?\n",
    "- Which species were spotted the most at each park, and what was their distribution?"
   ]
  },
  {
   "cell_type": "markdown",
   "id": "eabbcbc3-536c-4a59-bb3c-9e026c93f274",
   "metadata": {},
   "source": [
    "## 2. Data Characteristics and Cleaning"
   ]
  },
  {
   "cell_type": "code",
   "execution_count": 186,
   "id": "ea84cb00-0004-43f4-a497-b6115e710e55",
   "metadata": {},
   "outputs": [],
   "source": [
    "import pandas as pd\n",
    "import numpy as np\n",
    "\n",
    "from matplotlib import pyplot as plt\n",
    "import seaborn as sns\n",
    "\n",
    "%matplotlib inline"
   ]
  },
  {
   "cell_type": "markdown",
   "id": "229d2949-73c4-40a0-94a5-9c2c06ccafdd",
   "metadata": {},
   "source": [
    "The `species_info.csv` dataset has the following columns of data:\n",
    "- category - class of animal\n",
    "- scientific_name - the scientific name of each species\n",
    "- common_name - the common names of each species\n",
    "- conservation_status - each species’ current conservation status"
   ]
  },
  {
   "cell_type": "code",
   "execution_count": 188,
   "id": "0c6a3cf0-b027-419c-933f-54360fc00a68",
   "metadata": {},
   "outputs": [
    {
     "data": {
      "text/html": [
       "<div>\n",
       "<style scoped>\n",
       "    .dataframe tbody tr th:only-of-type {\n",
       "        vertical-align: middle;\n",
       "    }\n",
       "\n",
       "    .dataframe tbody tr th {\n",
       "        vertical-align: top;\n",
       "    }\n",
       "\n",
       "    .dataframe thead th {\n",
       "        text-align: right;\n",
       "    }\n",
       "</style>\n",
       "<table border=\"1\" class=\"dataframe\">\n",
       "  <thead>\n",
       "    <tr style=\"text-align: right;\">\n",
       "      <th></th>\n",
       "      <th>category</th>\n",
       "      <th>scientific_name</th>\n",
       "      <th>common_names</th>\n",
       "      <th>conservation_status</th>\n",
       "    </tr>\n",
       "  </thead>\n",
       "  <tbody>\n",
       "    <tr>\n",
       "      <th>0</th>\n",
       "      <td>Mammal</td>\n",
       "      <td>Clethrionomys gapperi gapperi</td>\n",
       "      <td>Gapper's Red-Backed Vole</td>\n",
       "      <td>NaN</td>\n",
       "    </tr>\n",
       "    <tr>\n",
       "      <th>1</th>\n",
       "      <td>Mammal</td>\n",
       "      <td>Bos bison</td>\n",
       "      <td>American Bison, Bison</td>\n",
       "      <td>NaN</td>\n",
       "    </tr>\n",
       "    <tr>\n",
       "      <th>2</th>\n",
       "      <td>Mammal</td>\n",
       "      <td>Bos taurus</td>\n",
       "      <td>Aurochs, Aurochs, Domestic Cattle (Feral), Dom...</td>\n",
       "      <td>NaN</td>\n",
       "    </tr>\n",
       "    <tr>\n",
       "      <th>3</th>\n",
       "      <td>Mammal</td>\n",
       "      <td>Ovis aries</td>\n",
       "      <td>Domestic Sheep, Mouflon, Red Sheep, Sheep (Feral)</td>\n",
       "      <td>NaN</td>\n",
       "    </tr>\n",
       "    <tr>\n",
       "      <th>4</th>\n",
       "      <td>Mammal</td>\n",
       "      <td>Cervus elaphus</td>\n",
       "      <td>Wapiti Or Elk</td>\n",
       "      <td>NaN</td>\n",
       "    </tr>\n",
       "  </tbody>\n",
       "</table>\n",
       "</div>"
      ],
      "text/plain": [
       "  category                scientific_name  \\\n",
       "0   Mammal  Clethrionomys gapperi gapperi   \n",
       "1   Mammal                      Bos bison   \n",
       "2   Mammal                     Bos taurus   \n",
       "3   Mammal                     Ovis aries   \n",
       "4   Mammal                 Cervus elaphus   \n",
       "\n",
       "                                        common_names conservation_status  \n",
       "0                           Gapper's Red-Backed Vole                 NaN  \n",
       "1                              American Bison, Bison                 NaN  \n",
       "2  Aurochs, Aurochs, Domestic Cattle (Feral), Dom...                 NaN  \n",
       "3  Domestic Sheep, Mouflon, Red Sheep, Sheep (Feral)                 NaN  \n",
       "4                                      Wapiti Or Elk                 NaN  "
      ]
     },
     "execution_count": 188,
     "metadata": {},
     "output_type": "execute_result"
    }
   ],
   "source": [
    "species = pd.read_csv('species_info.csv')\n",
    "species.head()"
   ]
  },
  {
   "cell_type": "markdown",
   "id": "71f328d8-4367-412a-98d2-b292bb112fdc",
   "metadata": {},
   "source": [
    "The `observations.csv` dataset had the following columns of data:\n",
    "- scientific_name - the scientific name of each species\n",
    "- park_name - Park where species were found\n",
    "- observations - the number of times each species was observed at park"
   ]
  },
  {
   "cell_type": "code",
   "execution_count": 190,
   "id": "f2a16f4c-c3f5-4e78-a708-1f0163c7b61e",
   "metadata": {},
   "outputs": [
    {
     "data": {
      "text/html": [
       "<div>\n",
       "<style scoped>\n",
       "    .dataframe tbody tr th:only-of-type {\n",
       "        vertical-align: middle;\n",
       "    }\n",
       "\n",
       "    .dataframe tbody tr th {\n",
       "        vertical-align: top;\n",
       "    }\n",
       "\n",
       "    .dataframe thead th {\n",
       "        text-align: right;\n",
       "    }\n",
       "</style>\n",
       "<table border=\"1\" class=\"dataframe\">\n",
       "  <thead>\n",
       "    <tr style=\"text-align: right;\">\n",
       "      <th></th>\n",
       "      <th>scientific_name</th>\n",
       "      <th>park_name</th>\n",
       "      <th>observations</th>\n",
       "    </tr>\n",
       "  </thead>\n",
       "  <tbody>\n",
       "    <tr>\n",
       "      <th>0</th>\n",
       "      <td>Vicia benghalensis</td>\n",
       "      <td>Great Smoky Mountains National Park</td>\n",
       "      <td>68</td>\n",
       "    </tr>\n",
       "    <tr>\n",
       "      <th>1</th>\n",
       "      <td>Neovison vison</td>\n",
       "      <td>Great Smoky Mountains National Park</td>\n",
       "      <td>77</td>\n",
       "    </tr>\n",
       "    <tr>\n",
       "      <th>2</th>\n",
       "      <td>Prunus subcordata</td>\n",
       "      <td>Yosemite National Park</td>\n",
       "      <td>138</td>\n",
       "    </tr>\n",
       "    <tr>\n",
       "      <th>3</th>\n",
       "      <td>Abutilon theophrasti</td>\n",
       "      <td>Bryce National Park</td>\n",
       "      <td>84</td>\n",
       "    </tr>\n",
       "    <tr>\n",
       "      <th>4</th>\n",
       "      <td>Githopsis specularioides</td>\n",
       "      <td>Great Smoky Mountains National Park</td>\n",
       "      <td>85</td>\n",
       "    </tr>\n",
       "  </tbody>\n",
       "</table>\n",
       "</div>"
      ],
      "text/plain": [
       "            scientific_name                            park_name  observations\n",
       "0        Vicia benghalensis  Great Smoky Mountains National Park            68\n",
       "1            Neovison vison  Great Smoky Mountains National Park            77\n",
       "2         Prunus subcordata               Yosemite National Park           138\n",
       "3      Abutilon theophrasti                  Bryce National Park            84\n",
       "4  Githopsis specularioides  Great Smoky Mountains National Park            85"
      ]
     },
     "execution_count": 190,
     "metadata": {},
     "output_type": "execute_result"
    }
   ],
   "source": [
    "observations = pd.read_csv('observations.csv')\n",
    "observations.head()"
   ]
  },
  {
   "cell_type": "markdown",
   "id": "8f9726b8-a0bb-4d9d-86e3-75af1222698a",
   "metadata": {},
   "source": [
    "Next, I am using .shape and .info() to gain a better understanding of the characteristics of each dataset. \n",
    "\n",
    "Some characteristics to note here are:\n",
    "- In both `species` and `observations`, there are variables that are objects that should be strings. I amend this in the next section.\n",
    "- In `species`, there are 5,824 entries, but `conservation_status` has 191 non-null counts. This is something to look into.\n",
    "\n",
    "I have checked for and removed any duplicated values in each DataFrame. "
   ]
  },
  {
   "cell_type": "code",
   "execution_count": 192,
   "id": "6a45dbdf-2bd2-40a6-a6dc-b828794b9d7f",
   "metadata": {},
   "outputs": [
    {
     "name": "stdout",
     "output_type": "stream",
     "text": [
      "species shape: (5824, 4)\n",
      "<class 'pandas.core.frame.DataFrame'>\n",
      "RangeIndex: 5824 entries, 0 to 5823\n",
      "Data columns (total 4 columns):\n",
      " #   Column               Non-Null Count  Dtype \n",
      "---  ------               --------------  ----- \n",
      " 0   category             5824 non-null   object\n",
      " 1   scientific_name      5824 non-null   object\n",
      " 2   common_names         5824 non-null   object\n",
      " 3   conservation_status  191 non-null    object\n",
      "dtypes: object(4)\n",
      "memory usage: 182.1+ KB\n",
      "None\n",
      "observations shape: (23296, 3)\n",
      "<class 'pandas.core.frame.DataFrame'>\n",
      "RangeIndex: 23296 entries, 0 to 23295\n",
      "Data columns (total 3 columns):\n",
      " #   Column           Non-Null Count  Dtype \n",
      "---  ------           --------------  ----- \n",
      " 0   scientific_name  23296 non-null  object\n",
      " 1   park_name        23296 non-null  object\n",
      " 2   observations     23296 non-null  int64 \n",
      "dtypes: int64(1), object(2)\n",
      "memory usage: 546.1+ KB\n",
      "None\n"
     ]
    }
   ],
   "source": [
    "print(f\"species shape: {species.shape}\")\n",
    "print(species.info())\n",
    "\n",
    "print(f\"observations shape: {observations.shape}\")\n",
    "print(observations.info())"
   ]
  },
  {
   "cell_type": "code",
   "execution_count": 194,
   "id": "96528d8f-ced1-48c6-b8b3-f71a30f79c8b",
   "metadata": {},
   "outputs": [
    {
     "name": "stdout",
     "output_type": "stream",
     "text": [
      "Duplicated valaues in Species:\n",
      " False    5824\n",
      "Name: count, dtype: int64\n",
      "Duplicated valaues in Observations:\n",
      " False    23281\n",
      "True        15\n",
      "Name: count, dtype: int64\n",
      "Duplicated valaues in Observations:\n",
      " False    23281\n",
      "Name: count, dtype: int64\n"
     ]
    }
   ],
   "source": [
    "# Amending data types from 'object' to 'string'\n",
    "species = species.astype('string')\n",
    "observations['scientific_name'] = observations['scientific_name'].astype('string')\n",
    "observations['park_name'] = observations['park_name'].astype('string')\n",
    "\n",
    "# Checing for duplicated values in each DataFrame\n",
    "print(f\"Duplicated valaues in Species:\\n {species.duplicated().value_counts()}\")\n",
    "print(f\"Duplicated valaues in Observations:\\n {observations.duplicated().value_counts()}\")\n",
    "\n",
    "#Dropping duplicated values from 'observations' and verifying by checking again\n",
    "observations = observations.drop_duplicates()\n",
    "print(f\"Duplicated valaues in Observations:\\n {observations.duplicated().value_counts()}\")"
   ]
  },
  {
   "cell_type": "markdown",
   "id": "87fe2f47-c39f-4ffb-b0c7-675b89455fcb",
   "metadata": {},
   "source": [
    "Starting with `species` I wanted to find out how many unique species are in the dataset. By examining the `scientific_name` column, I found that there are 5,541 unique species in the `species` DataFrame, even though there are 5,824 total entries. This indicates that some scientific names appear more than once.\n",
    "\n",
    "I also observed that some species have multiple common names. These are stored in the `common_names` column, but not all common names are recorded for every scientific name. As a result, some species appear multiple times, each with different common names, while others may be missing some or all of their common names.\n",
    "\n",
    "To simplify `species`, I will remove `common_names` and `scientific_name` as the unique identifier for each species. This ensures consistency, as `scientific_name` is more standardised and avoids the inconsistencies and duplicates introduced by varying common names."
   ]
  },
  {
   "cell_type": "code",
   "execution_count": 196,
   "id": "96c9b471-973a-49c2-a628-1fc597a2b8b4",
   "metadata": {},
   "outputs": [
    {
     "name": "stdout",
     "output_type": "stream",
     "text": [
      "number of species: 5541\n",
      "scientific_name\n",
      "Agrostis capillaris     2\n",
      "Agrostis gigantea       2\n",
      "Agrostis mertensii      2\n",
      "Agrostis scabra         2\n",
      "Agrostis stolonifera    2\n",
      "                       ..\n",
      "Vireo solitarius        2\n",
      "Vulpia bromoides        2\n",
      "Vulpia myuros           2\n",
      "Vulpia octoflora        2\n",
      "Zizia aptera            2\n",
      "Length: 274, dtype: int64\n",
      "            category     scientific_name  \\\n",
      "2136  Vascular Plant  Agrostis mertensii   \n",
      "4178  Vascular Plant  Agrostis mertensii   \n",
      "\n",
      "                              common_names conservation_status  \n",
      "2136                     Northern Agrostis                <NA>  \n",
      "4178  Arctic Bentgrass, Northern Bentgrass                <NA>  \n",
      "            category scientific_name  \\\n",
      "2330  Vascular Plant   Vulpia myuros   \n",
      "5643  Vascular Plant   Vulpia myuros   \n",
      "\n",
      "                                           common_names conservation_status  \n",
      "2330                                     Rattail Fescue                <NA>  \n",
      "5643  Foxtail Fescue, Rattail Fescue, Rat-Tail Fescu...                <NA>  \n",
      "Duplicated valaues in Species:\n",
      " False    5543\n",
      "True      281\n",
      "Name: count, dtype: int64\n",
      "Duplicated valaues in Species:\n",
      " False    5543\n",
      "Name: count, dtype: int64\n"
     ]
    }
   ],
   "source": [
    "print(f\"number of species: {species.scientific_name.nunique()}\")\n",
    "\n",
    "# Checking for any multiple entries of each 'scientific_name'\n",
    "counts = species.groupby('scientific_name').size().loc[lambda x: x > 1]\n",
    "print(counts)\n",
    "\n",
    "#Filtering species to look more closely at the values for a specific 'scientific_name'\n",
    "check_1 = species[species['scientific_name'] == 'Agrostis mertensii']\n",
    "print(check_1)\n",
    "\n",
    "check_2 = species[species['scientific_name'] == 'Vulpia myuros']\n",
    "print(check_2)\n",
    "\n",
    "#Removing 'common_names' to simplify `species`, and removing duplicates from the resulting DataFrame\n",
    "species = species.drop(['common_names'], axis=1)\n",
    "print(f\"Duplicated valaues in Species:\\n {species.duplicated().value_counts()}\")\n",
    "species = species.drop_duplicates()\n",
    "print(f\"Duplicated valaues in Species:\\n {species.duplicated().value_counts()}\")"
   ]
  },
  {
   "cell_type": "markdown",
   "id": "faab6330-6212-42fd-9736-4d11efe5fef7",
   "metadata": {},
   "source": [
    "In the previous stage, I identified that there are null values in `conservation_status`. To take a closer look, I have grouped the data. Given that the majority of the dataset has been assigned `nan` as a `conservation_status` I have assumed that there are no concerns about these species. To make this clear, I have replaced the `nan` values with `No Intervention`."
   ]
  },
  {
   "cell_type": "code",
   "execution_count": 198,
   "id": "63d82e3d-88e4-47a3-9940-d472d0590bdc",
   "metadata": {},
   "outputs": [
    {
     "name": "stdout",
     "output_type": "stream",
     "text": [
      "Null values: 5363\n",
      "Not null values: 180\n"
     ]
    },
    {
     "data": {
      "text/plain": [
       "conservation_status\n",
       "Endangered             15\n",
       "In Recovery             4\n",
       "Species of Concern    151\n",
       "Threatened             10\n",
       "dtype: int64"
      ]
     },
     "execution_count": 198,
     "metadata": {},
     "output_type": "execute_result"
    }
   ],
   "source": [
    "# Looking at null values in the 'conservation_status' column\n",
    "print(f\"Null values: {species.conservation_status.isna().sum()}\")\n",
    "print(f\"Not null values: {species.conservation_status.notnull().sum()}\")\n",
    "species.groupby(\"conservation_status\").size()"
   ]
  },
  {
   "cell_type": "code",
   "execution_count": 204,
   "id": "1c380ce4-9cfb-4504-b6ca-f948ed5aa184",
   "metadata": {},
   "outputs": [
    {
     "name": "stdout",
     "output_type": "stream",
     "text": [
      "Null values: 0\n",
      "Not null values: 5543\n"
     ]
    },
    {
     "data": {
      "text/plain": [
       "conservation_status\n",
       "Endangered              15\n",
       "In Recovery              4\n",
       "No Intervention       5363\n",
       "Species of Concern     151\n",
       "Threatened              10\n",
       "dtype: int64"
      ]
     },
     "execution_count": 204,
     "metadata": {},
     "output_type": "execute_result"
    }
   ],
   "source": [
    "# Replacing null values in 'conservation_status' with 'No Intervention'\n",
    "species.fillna('No Intervention', inplace=True)\n",
    "print(f\"Null values: {species.conservation_status.isna().sum()}\")\n",
    "print(f\"Not null values: {species.conservation_status.notnull().sum()}\")\n",
    "species.groupby(\"conservation_status\").size()"
   ]
  },
  {
   "cell_type": "markdown",
   "id": "8a4f9c1d-de6f-4f0f-ba64-340883a84696",
   "metadata": {},
   "source": [
    "There is still a discrepanyc between the number of unique scientific names (5,541) and the total entries (5,543) in `species` suggesting that there are two duplicates that I have missed. I carried out the checks again and identified two pairs of entries that shared the same scientific name but had different conservation statuses. For this analysis, I have assumed the worst and opted for the entry with the most concerning conservation status."
   ]
  },
  {
   "cell_type": "code",
   "execution_count": 214,
   "id": "0d7f5231-df77-45fb-a83f-363ae11c2441",
   "metadata": {},
   "outputs": [
    {
     "name": "stdout",
     "output_type": "stream",
     "text": [
      "number of species: 5541\n",
      "<class 'pandas.core.frame.DataFrame'>\n",
      "Index: 5543 entries, 0 to 5823\n",
      "Data columns (total 3 columns):\n",
      " #   Column               Non-Null Count  Dtype \n",
      "---  ------               --------------  ----- \n",
      " 0   category             5543 non-null   string\n",
      " 1   scientific_name      5543 non-null   string\n",
      " 2   conservation_status  5543 non-null   string\n",
      "dtypes: string(3)\n",
      "memory usage: 173.2 KB\n",
      "None\n",
      "scientific_name\n",
      "Canis lupus            2\n",
      "Oncorhynchus mykiss    2\n",
      "dtype: int64\n",
      "     category scientific_name conservation_status\n",
      "8      Mammal     Canis lupus          Endangered\n",
      "3020   Mammal     Canis lupus         In Recovery\n",
      "     category      scientific_name conservation_status\n",
      "560      Fish  Oncorhynchus mykiss     No Intervention\n",
      "3283     Fish  Oncorhynchus mykiss          Threatened\n"
     ]
    }
   ],
   "source": [
    "# Checking for duplicate entries\n",
    "print(f\"number of species: {species.scientific_name.nunique()}\")\n",
    "print(species.info())\n",
    "counts = species.groupby('scientific_name').size().loc[lambda x: x > 1]\n",
    "print(counts)\n",
    "\n",
    "# Looking at the duplicate entries in further detail\n",
    "check_3 = species[species['scientific_name'] == 'Canis lupus']\n",
    "print(check_3)\n",
    "\n",
    "check_4 = species[species['scientific_name'] == 'Oncorhynchus mykiss']\n",
    "print(check_4)"
   ]
  },
  {
   "cell_type": "code",
   "execution_count": 219,
   "id": "c36e4a05-7151-45c6-a791-bbb510202700",
   "metadata": {},
   "outputs": [
    {
     "name": "stdout",
     "output_type": "stream",
     "text": [
      "number of species: 5541\n",
      "<class 'pandas.core.frame.DataFrame'>\n",
      "Index: 5541 entries, 0 to 5823\n",
      "Data columns (total 3 columns):\n",
      " #   Column               Non-Null Count  Dtype \n",
      "---  ------               --------------  ----- \n",
      " 0   category             5541 non-null   string\n",
      " 1   scientific_name      5541 non-null   string\n",
      " 2   conservation_status  5541 non-null   string\n",
      "dtypes: string(3)\n",
      "memory usage: 173.2 KB\n",
      "None\n"
     ]
    }
   ],
   "source": [
    "# Removing the entries with the least concerning 'conservation_status'\n",
    "species.drop(species[(species['category'] == 'Mammal') & (species['scientific_name'] == 'Canis lupus') & (species['conservation_status'] == 'In Recovery')].index, inplace=True)\n",
    "species.drop(species[(species['category'] == 'Fish') & (species['scientific_name'] == 'Oncorhynchus mykiss') & (species['conservation_status'] == 'No Intervention')].index, inplace=True)\n",
    "\n",
    "# Conducting a final check on the number of unique species using 'scientific_name' and the number of entries in 'species' \n",
    "print(f\"number of species: {species.scientific_name.nunique()}\")\n",
    "print(species.info())"
   ]
  },
  {
   "cell_type": "markdown",
   "id": "3d4bf1f0-42ec-4b42-9614-c8df39428f50",
   "metadata": {},
   "source": [
    "Next, I want to understand the different types of species in the dataset. I can do this using the `category` column. There are 7 categories in `species`, including different categories of animals and plants. Taking a closer look, I have grouped the `category` column by size in order to see how many species there are for each type. In this dataset, the Vascular Plant category has the most amount of species (4,262), whilst the Reptile category has the fewest (79)."
   ]
  },
  {
   "cell_type": "code",
   "execution_count": 231,
   "id": "831ae7a7-bad0-4c18-b97a-f685310246ca",
   "metadata": {},
   "outputs": [
    {
     "name": "stdout",
     "output_type": "stream",
     "text": [
      "Categories: <StringArray>\n",
      "[           'Mammal',              'Bird',           'Reptile',\n",
      "         'Amphibian',              'Fish',    'Vascular Plant',\n",
      " 'Nonvascular Plant']\n",
      "Length: 7, dtype: string\n"
     ]
    },
    {
     "data": {
      "text/plain": [
       "category\n",
       "Amphibian              79\n",
       "Bird                  488\n",
       "Fish                  125\n",
       "Mammal                176\n",
       "Nonvascular Plant     333\n",
       "Reptile                78\n",
       "Vascular Plant       4262\n",
       "dtype: int64"
      ]
     },
     "execution_count": 231,
     "metadata": {},
     "output_type": "execute_result"
    }
   ],
   "source": [
    "# Looking at the different species categories and the total number of entries per category\n",
    "print(f\"Categories: {species.category.unique()}\")\n",
    "species.groupby(\"category\").size()"
   ]
  },
  {
   "cell_type": "markdown",
   "id": "3476138f-7d8d-4df4-ab89-935a2b43bc22",
   "metadata": {},
   "source": [
    "I will now look at `observations`. I have identified 4 National Parks in the `observations` dataset, and the total amount of observations is 3,312,429."
   ]
  },
  {
   "cell_type": "code",
   "execution_count": 237,
   "id": "6c527f07-4643-49ad-9e1b-608d9b509e36",
   "metadata": {},
   "outputs": [
    {
     "name": "stdout",
     "output_type": "stream",
     "text": [
      "National Parks: <StringArray>\n",
      "['Great Smoky Mountains National Park',              'Yosemite National Park',\n",
      "                 'Bryce National Park',           'Yellowstone National Park']\n",
      "Length: 4, dtype: string\n",
      "Total number of observations: 3312429\n"
     ]
    }
   ],
   "source": [
    "print(f\"National Parks: {observations.park_name.unique()}\")\n",
    "print(f\"Total number of observations: {observations.observations.sum()}\")"
   ]
  },
  {
   "cell_type": "code",
   "execution_count": 240,
   "id": "64a0b1cb-0a1f-4bf4-bc80-71373c787f03",
   "metadata": {},
   "outputs": [
    {
     "name": "stdout",
     "output_type": "stream",
     "text": [
      "            scientific_name                            park_name  observations\n",
      "0        Vicia benghalensis  Great Smoky Mountains National Park            68\n",
      "1            Neovison vison  Great Smoky Mountains National Park            77\n",
      "2         Prunus subcordata               Yosemite National Park           138\n",
      "3      Abutilon theophrasti                  Bryce National Park            84\n",
      "4  Githopsis specularioides  Great Smoky Mountains National Park            85\n",
      "  category                scientific_name conservation_status\n",
      "0   Mammal  Clethrionomys gapperi gapperi     No Intervention\n",
      "1   Mammal                      Bos bison     No Intervention\n",
      "2   Mammal                     Bos taurus     No Intervention\n",
      "3   Mammal                     Ovis aries     No Intervention\n",
      "4   Mammal                 Cervus elaphus     No Intervention\n"
     ]
    }
   ],
   "source": [
    "print(observations.head())\n",
    "print(species.head())"
   ]
  },
  {
   "cell_type": "markdown",
   "id": "199e79b2-ea4f-4b72-95f1-c9b9d7ca6fbf",
   "metadata": {},
   "source": [
    "Now that I have cleaned `species` and `observations` I have merged the DataFrames to create `all_data`, which I will use for my analysis."
   ]
  },
  {
   "cell_type": "code",
   "execution_count": 252,
   "id": "de35dc2e-a482-426b-80b0-3f42d3607aad",
   "metadata": {},
   "outputs": [
    {
     "name": "stdout",
     "output_type": "stream",
     "text": [
      "<class 'pandas.core.frame.DataFrame'>\n",
      "RangeIndex: 23281 entries, 0 to 23280\n",
      "Data columns (total 5 columns):\n",
      " #   Column               Non-Null Count  Dtype \n",
      "---  ------               --------------  ----- \n",
      " 0   scientific_name      23281 non-null  string\n",
      " 1   park_name            23281 non-null  string\n",
      " 2   observations         23281 non-null  int64 \n",
      " 3   category             23281 non-null  string\n",
      " 4   conservation_status  23281 non-null  string\n",
      "dtypes: int64(1), string(4)\n",
      "memory usage: 909.5 KB\n",
      "None\n",
      "            scientific_name                            park_name  \\\n",
      "0        Vicia benghalensis  Great Smoky Mountains National Park   \n",
      "1            Neovison vison  Great Smoky Mountains National Park   \n",
      "2         Prunus subcordata               Yosemite National Park   \n",
      "3      Abutilon theophrasti                  Bryce National Park   \n",
      "4  Githopsis specularioides  Great Smoky Mountains National Park   \n",
      "\n",
      "   observations        category conservation_status  \n",
      "0            68  Vascular Plant     No Intervention  \n",
      "1            77          Mammal     No Intervention  \n",
      "2           138  Vascular Plant     No Intervention  \n",
      "3            84  Vascular Plant     No Intervention  \n",
      "4            85  Vascular Plant     No Intervention  \n"
     ]
    }
   ],
   "source": [
    "# Merging 'observations' and 'species' using a left join\n",
    "all_data = observations.merge(species, how='left', on='scientific_name')\n",
    "\n",
    "# Checking that info and first 5 rows of 'all_data' are as expected\n",
    "print(all_data.info())\n",
    "print(all_data.head())"
   ]
  },
  {
   "cell_type": "markdown",
   "id": "0bbce0c3-7384-40d8-a03d-89634b6a97a5",
   "metadata": {},
   "source": [
    "## 3. Analysis"
   ]
  }
 ],
 "metadata": {
  "kernelspec": {
   "display_name": "Python [conda env:base] *",
   "language": "python",
   "name": "conda-base-py"
  },
  "language_info": {
   "codemirror_mode": {
    "name": "ipython",
    "version": 3
   },
   "file_extension": ".py",
   "mimetype": "text/x-python",
   "name": "python",
   "nbconvert_exporter": "python",
   "pygments_lexer": "ipython3",
   "version": "3.12.7"
  }
 },
 "nbformat": 4,
 "nbformat_minor": 5
}
