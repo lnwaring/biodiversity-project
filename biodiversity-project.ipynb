{
 "cells": [
  {
   "cell_type": "markdown",
   "id": "b90288a8-1c8e-4bbe-aed5-fbefc5d3bc20",
   "metadata": {},
   "source": [
    "# Introduction"
   ]
  },
  {
   "cell_type": "markdown",
   "id": "4fbcd2a5-8a8a-4271-87cc-fb013eb656ab",
   "metadata": {},
   "source": [
    "The aim of this project is to analyse data from the National Parks Service about endangered species in different parks, and identify any patterns or themes in relation to the conservation statuses of these species.\n",
    "\n",
    "Below are the questions that this analysis will seek to answer:\n",
    "- What is the distribution of conservation status for species?\n",
    "- Which species are more likely to be endangered?\n",
    "- Are the differences between species and their conservation status significant?\n",
    "- Which species were spotted the most at each park, and what was their distribution?"
   ]
  },
  {
   "cell_type": "markdown",
   "id": "07e343da-8f1c-4fcd-af64-3ee8ceecdbad",
   "metadata": {},
   "source": [
    "### Import Python Modules"
   ]
  },
  {
   "cell_type": "code",
   "execution_count": 186,
   "id": "832a51fb-dbea-408e-8c5e-76cbc2d3e20f",
   "metadata": {},
   "outputs": [],
   "source": [
    "import pandas as pd\n",
    "import numpy as np\n",
    "\n",
    "from matplotlib import pyplot as plt\n",
    "import seaborn as sns\n",
    "\n",
    "%matplotlib inline"
   ]
  },
  {
   "cell_type": "markdown",
   "id": "037672d6-5c08-41fd-a51d-dc2ecb270f1a",
   "metadata": {},
   "source": [
    "### Load the Data"
   ]
  },
  {
   "cell_type": "markdown",
   "id": "69bc8f80-7bbd-4a25-b05b-0f0574cc68fb",
   "metadata": {},
   "source": [
    "#### species Dataset\n",
    "\n",
    "The `species_info.csv` dataset has the following columns of data:\n",
    "- category - class of animal\n",
    "- scientific_name - the scientific name of each species\n",
    "- common_name - the common names of each species\n",
    "- conservation_status - each species’ current conservation status"
   ]
  },
  {
   "cell_type": "code",
   "execution_count": 44,
   "id": "85a922ec-4529-47dc-9217-4d90b44bdbbf",
   "metadata": {},
   "outputs": [
    {
     "data": {
      "text/html": [
       "<div>\n",
       "<style scoped>\n",
       "    .dataframe tbody tr th:only-of-type {\n",
       "        vertical-align: middle;\n",
       "    }\n",
       "\n",
       "    .dataframe tbody tr th {\n",
       "        vertical-align: top;\n",
       "    }\n",
       "\n",
       "    .dataframe thead th {\n",
       "        text-align: right;\n",
       "    }\n",
       "</style>\n",
       "<table border=\"1\" class=\"dataframe\">\n",
       "  <thead>\n",
       "    <tr style=\"text-align: right;\">\n",
       "      <th></th>\n",
       "      <th>category</th>\n",
       "      <th>scientific_name</th>\n",
       "      <th>common_names</th>\n",
       "      <th>conservation_status</th>\n",
       "    </tr>\n",
       "  </thead>\n",
       "  <tbody>\n",
       "    <tr>\n",
       "      <th>0</th>\n",
       "      <td>Mammal</td>\n",
       "      <td>Clethrionomys gapperi gapperi</td>\n",
       "      <td>Gapper's Red-Backed Vole</td>\n",
       "      <td>NaN</td>\n",
       "    </tr>\n",
       "    <tr>\n",
       "      <th>1</th>\n",
       "      <td>Mammal</td>\n",
       "      <td>Bos bison</td>\n",
       "      <td>American Bison, Bison</td>\n",
       "      <td>NaN</td>\n",
       "    </tr>\n",
       "    <tr>\n",
       "      <th>2</th>\n",
       "      <td>Mammal</td>\n",
       "      <td>Bos taurus</td>\n",
       "      <td>Aurochs, Aurochs, Domestic Cattle (Feral), Dom...</td>\n",
       "      <td>NaN</td>\n",
       "    </tr>\n",
       "    <tr>\n",
       "      <th>3</th>\n",
       "      <td>Mammal</td>\n",
       "      <td>Ovis aries</td>\n",
       "      <td>Domestic Sheep, Mouflon, Red Sheep, Sheep (Feral)</td>\n",
       "      <td>NaN</td>\n",
       "    </tr>\n",
       "    <tr>\n",
       "      <th>4</th>\n",
       "      <td>Mammal</td>\n",
       "      <td>Cervus elaphus</td>\n",
       "      <td>Wapiti Or Elk</td>\n",
       "      <td>NaN</td>\n",
       "    </tr>\n",
       "  </tbody>\n",
       "</table>\n",
       "</div>"
      ],
      "text/plain": [
       "  category                scientific_name  \\\n",
       "0   Mammal  Clethrionomys gapperi gapperi   \n",
       "1   Mammal                      Bos bison   \n",
       "2   Mammal                     Bos taurus   \n",
       "3   Mammal                     Ovis aries   \n",
       "4   Mammal                 Cervus elaphus   \n",
       "\n",
       "                                        common_names conservation_status  \n",
       "0                           Gapper's Red-Backed Vole                 NaN  \n",
       "1                              American Bison, Bison                 NaN  \n",
       "2  Aurochs, Aurochs, Domestic Cattle (Feral), Dom...                 NaN  \n",
       "3  Domestic Sheep, Mouflon, Red Sheep, Sheep (Feral)                 NaN  \n",
       "4                                      Wapiti Or Elk                 NaN  "
      ]
     },
     "execution_count": 44,
     "metadata": {},
     "output_type": "execute_result"
    }
   ],
   "source": [
    "species = pd.read_csv('species_info.csv')\n",
    "species.head()"
   ]
  },
  {
   "cell_type": "markdown",
   "id": "c76d60ba-9ad5-4f7c-b55a-a13076129eab",
   "metadata": {},
   "source": [
    "#### observations Dataset\n",
    "\n",
    "The `observations.csv` dataset had the following columns of data:\n",
    "- scientific_name - the scientific name of each species\n",
    "- park_name - Park where species were found\n",
    "- observations - the number of times each species was observed at park"
   ]
  },
  {
   "cell_type": "code",
   "execution_count": 22,
   "id": "542db2f0-fd9f-478d-a102-0582a2bb14b4",
   "metadata": {},
   "outputs": [
    {
     "data": {
      "text/html": [
       "<div>\n",
       "<style scoped>\n",
       "    .dataframe tbody tr th:only-of-type {\n",
       "        vertical-align: middle;\n",
       "    }\n",
       "\n",
       "    .dataframe tbody tr th {\n",
       "        vertical-align: top;\n",
       "    }\n",
       "\n",
       "    .dataframe thead th {\n",
       "        text-align: right;\n",
       "    }\n",
       "</style>\n",
       "<table border=\"1\" class=\"dataframe\">\n",
       "  <thead>\n",
       "    <tr style=\"text-align: right;\">\n",
       "      <th></th>\n",
       "      <th>scientific_name</th>\n",
       "      <th>park_name</th>\n",
       "      <th>observations</th>\n",
       "    </tr>\n",
       "  </thead>\n",
       "  <tbody>\n",
       "    <tr>\n",
       "      <th>0</th>\n",
       "      <td>Vicia benghalensis</td>\n",
       "      <td>Great Smoky Mountains National Park</td>\n",
       "      <td>68</td>\n",
       "    </tr>\n",
       "    <tr>\n",
       "      <th>1</th>\n",
       "      <td>Neovison vison</td>\n",
       "      <td>Great Smoky Mountains National Park</td>\n",
       "      <td>77</td>\n",
       "    </tr>\n",
       "    <tr>\n",
       "      <th>2</th>\n",
       "      <td>Prunus subcordata</td>\n",
       "      <td>Yosemite National Park</td>\n",
       "      <td>138</td>\n",
       "    </tr>\n",
       "    <tr>\n",
       "      <th>3</th>\n",
       "      <td>Abutilon theophrasti</td>\n",
       "      <td>Bryce National Park</td>\n",
       "      <td>84</td>\n",
       "    </tr>\n",
       "    <tr>\n",
       "      <th>4</th>\n",
       "      <td>Githopsis specularioides</td>\n",
       "      <td>Great Smoky Mountains National Park</td>\n",
       "      <td>85</td>\n",
       "    </tr>\n",
       "  </tbody>\n",
       "</table>\n",
       "</div>"
      ],
      "text/plain": [
       "            scientific_name                            park_name  observations\n",
       "0        Vicia benghalensis  Great Smoky Mountains National Park            68\n",
       "1            Neovison vison  Great Smoky Mountains National Park            77\n",
       "2         Prunus subcordata               Yosemite National Park           138\n",
       "3      Abutilon theophrasti                  Bryce National Park            84\n",
       "4  Githopsis specularioides  Great Smoky Mountains National Park            85"
      ]
     },
     "execution_count": 22,
     "metadata": {},
     "output_type": "execute_result"
    }
   ],
   "source": [
    "observations = pd.read_csv('observations.csv')\n",
    "observations.head()"
   ]
  },
  {
   "cell_type": "markdown",
   "id": "6d0dc4bb-c76b-42a4-a587-d82f537692c0",
   "metadata": {},
   "source": [
    "### Data Characteristics\n",
    "\n",
    "Next, I have used the shape command to find out how many rows and columns there are in each dataset. `species` has 5,824 rows and 4 columns, whilst `observations` has 23,296 rows and 3 columns."
   ]
  },
  {
   "cell_type": "code",
   "execution_count": 32,
   "id": "0cbcd2b3-f305-4a11-b7fc-30d7efe07c18",
   "metadata": {},
   "outputs": [
    {
     "name": "stdout",
     "output_type": "stream",
     "text": [
      "species shape: (5824, 4)\n",
      "observations shape: (23296, 3)\n"
     ]
    }
   ],
   "source": [
    "print(f\"species shape: {species.shape}\")\n",
    "print(f\"observations shape: {observations.shape}\")"
   ]
  },
  {
   "cell_type": "markdown",
   "id": "b86f9c26-de32-4c64-965d-4c39df21e72f",
   "metadata": {},
   "source": [
    "### Exploring the Data\n",
    "\n",
    "Firstly, I want to find out how many uniques species there are in the dataset. Using the `scientific_name` column, I have discovered that there are 5,541 species in `species`."
   ]
  },
  {
   "cell_type": "code",
   "execution_count": 46,
   "id": "6e1d7f47-39f1-41bb-9d40-58c72ae83b4d",
   "metadata": {},
   "outputs": [
    {
     "name": "stdout",
     "output_type": "stream",
     "text": [
      "number of species: 5541\n"
     ]
    }
   ],
   "source": [
    "print(f\"number of species: {species.scientific_name.nunique()}\")"
   ]
  },
  {
   "cell_type": "markdown",
   "id": "22fa6e8c-220e-46ee-81dd-bd918d62f0d1",
   "metadata": {},
   "source": [
    "Next, I want to understand the different types of species in the dataset. I can do this using the `category` column. There are 7 categories in `species`, including animals and plants."
   ]
  },
  {
   "cell_type": "code",
   "execution_count": 50,
   "id": "e90f4fb0-4158-4a06-a563-89f946c7bd8c",
   "metadata": {},
   "outputs": [
    {
     "name": "stdout",
     "output_type": "stream",
     "text": [
      "number of categories: 7\n",
      "categories: ['Mammal' 'Bird' 'Reptile' 'Amphibian' 'Fish' 'Vascular Plant'\n",
      " 'Nonvascular Plant']\n"
     ]
    }
   ],
   "source": [
    "print(f\"number of categories: {species.category.nunique()}\")\n",
    "print(f\"categories: {species.category.unique()}\")"
   ]
  },
  {
   "cell_type": "markdown",
   "id": "7af70e21-ed82-47ad-83a7-f24e6d6b2be5",
   "metadata": {},
   "source": [
    "To dig deeper into this, I have grouped the `category` column by size in order to see how many species there are for each type. In this dataset, the Vascular Plant category has the most amount of species (4,470), whilst the Reptile category has the fewest (79)."
   ]
  },
  {
   "cell_type": "code",
   "execution_count": 52,
   "id": "5e4b2733-6c4e-4328-9668-8d8e5c85c8f8",
   "metadata": {},
   "outputs": [
    {
     "data": {
      "text/plain": [
       "category\n",
       "Amphibian              80\n",
       "Bird                  521\n",
       "Fish                  127\n",
       "Mammal                214\n",
       "Nonvascular Plant     333\n",
       "Reptile                79\n",
       "Vascular Plant       4470\n",
       "dtype: int64"
      ]
     },
     "execution_count": 52,
     "metadata": {},
     "output_type": "execute_result"
    }
   ],
   "source": [
    "species.groupby(\"category\").size()"
   ]
  },
  {
   "cell_type": "markdown",
   "id": "04d8386a-07db-441d-a82f-1bb113d9ce21",
   "metadata": {},
   "source": [
    "Another column to look at is `conservation_status`. In `species` there are 4 different conservation statuses, as well as `nan` values. In the next step I will look at how many `nan` values there are to determine what the missing data could mean in the context of this dataset."
   ]
  },
  {
   "cell_type": "code",
   "execution_count": 54,
   "id": "40643efc-f933-44f3-bfef-2a210654ea55",
   "metadata": {},
   "outputs": [
    {
     "name": "stdout",
     "output_type": "stream",
     "text": [
      "number of conservation statuses: 4\n",
      "conservation statuses: [nan 'Species of Concern' 'Endangered' 'Threatened' 'In Recovery']\n"
     ]
    }
   ],
   "source": [
    "print(f\"number of conservation statuses: {species.conservation_status.nunique()}\")\n",
    "print(f\"conservation statuses: {species.conservation_status.unique()}\")"
   ]
  },
  {
   "cell_type": "markdown",
   "id": "fdee415e-608d-406f-b404-40821c04656c",
   "metadata": {},
   "source": [
    "To get a better understanding of how many species have been assigned a `conservation_status`, I have grouped the data. There are 5,633 `nan` values, and 191 not null values. Given that the majority of the dataset has been assigned `nan` as a `conservation_status` we can assume that these species are without concerns in relation to endangerment."
   ]
  },
  {
   "cell_type": "code",
   "execution_count": 79,
   "id": "52508d23-09c3-484f-81da-3809c33adb61",
   "metadata": {},
   "outputs": [
    {
     "name": "stdout",
     "output_type": "stream",
     "text": [
      "na values: 5633\n",
      "not null values: 191\n"
     ]
    },
    {
     "data": {
      "text/plain": [
       "conservation_status\n",
       "Endangered             16\n",
       "In Recovery             4\n",
       "Species of Concern    161\n",
       "Threatened             10\n",
       "dtype: int64"
      ]
     },
     "execution_count": 79,
     "metadata": {},
     "output_type": "execute_result"
    }
   ],
   "source": [
    "print(f\"na values: {species.conservation_status.isna().sum()}\")\n",
    "print(f\"not null values: {species.conservation_status.notnull().sum()}\")\n",
    "species.groupby(\"conservation_status\").size()"
   ]
  },
  {
   "cell_type": "markdown",
   "id": "eb1e9817-aac9-4c0d-9a36-8b67c10884d6",
   "metadata": {},
   "source": [
    "Moving on from `species`, I will now look at `observations`. Using `park_name`, I have identified 4 National Parks in the `observations` dataset."
   ]
  },
  {
   "cell_type": "code",
   "execution_count": 92,
   "id": "013728bd-e45d-4809-8048-38d03c6fc1ca",
   "metadata": {},
   "outputs": [
    {
     "name": "stdout",
     "output_type": "stream",
     "text": [
      "number of National Parks: 4\n",
      "National Park names: ['Great Smoky Mountains National Park' 'Yosemite National Park'\n",
      " 'Bryce National Park' 'Yellowstone National Park']\n"
     ]
    }
   ],
   "source": [
    "print(f\"number of National Parks: {observations.park_name.nunique()}\")\n",
    "print(f\"National Park names: {observations.park_name.unique()}\")"
   ]
  },
  {
   "cell_type": "markdown",
   "id": "c4323c1f-aa04-4eb7-b4df-ce542e787369",
   "metadata": {},
   "source": [
    "The total amount of observations in `observations` is 3,314,739."
   ]
  },
  {
   "cell_type": "code",
   "execution_count": 95,
   "id": "d6e3042a-6b54-4c87-8322-5a36dd23ba43",
   "metadata": {},
   "outputs": [
    {
     "name": "stdout",
     "output_type": "stream",
     "text": [
      "total number of observations: 3314739\n"
     ]
    }
   ],
   "source": [
    "print(f\"total number of observations: {observations.observations.sum()}\")"
   ]
  },
  {
   "cell_type": "markdown",
   "id": "ed2ea809-87b2-4871-a392-e4db64e50a0d",
   "metadata": {},
   "source": [
    "### Analysis"
   ]
  },
  {
   "cell_type": "markdown",
   "id": "e8f2a069-1e44-4246-ac29-4abfb2589f6c",
   "metadata": {},
   "source": [
    "This section will analyse the data that was explored in the previous section. Firstly, I will look at the `conservation_status` in `species`.\n",
    "\n",
    "In the data exploration section, I found that this column contained `nan` values. `nan` was given to entries that did not face any endangerment risk, therefore I have replaced `nan` with `No Intervention`. "
   ]
  },
  {
   "cell_type": "code",
   "execution_count": 125,
   "id": "24a36f61-ba3d-453e-8d61-b83b9dffb622",
   "metadata": {},
   "outputs": [
    {
     "data": {
      "text/plain": [
       "conservation_status\n",
       "Endangered              16\n",
       "In Recovery              4\n",
       "No Intervention       5633\n",
       "Species of Concern     161\n",
       "Threatened              10\n",
       "dtype: int64"
      ]
     },
     "execution_count": 125,
     "metadata": {},
     "output_type": "execute_result"
    }
   ],
   "source": [
    "species.fillna('No Intervention', inplace=True)\n",
    "species.groupby(\"conservation_status\").size()"
   ]
  },
  {
   "cell_type": "code",
   "execution_count": null,
   "id": "7f0134de-45e0-4017-b425-84e4c0aa1f9f",
   "metadata": {},
   "outputs": [],
   "source": []
  },
  {
   "cell_type": "markdown",
   "id": "c95ddab5-6dfe-4ce7-90bb-4ab076d2dcdf",
   "metadata": {},
   "source": [
    "Next, in order to focus on the species that have either a `In Recovery`, `Species of Concern`, `Threatened`, or `Endangered` conservation status, I've excluded the entries with a `No Intervention` status.\n",
    "\n",
    "Below is a table and chart that looks into the `category` split amongst each `conservation_status`.\n",
    "\n",
    "`Species of Concern` is the most populated conservation status, with the `Bird` category having the most amount of entries under this status (72), followed by `Vascular Plant` (43) and `Mammal` (28). Amongst the `Endangered` category, `Mammal` has the most entries, followed by `Bird` and `Fish`. The categroies `Nonvascular` and `Reptiles` have very low counts across all statuses. \n"
   ]
  },
  {
   "cell_type": "code",
   "execution_count": 194,
   "id": "6feec1fd-80e0-4c51-9fe4-35eb22a097f1",
   "metadata": {},
   "outputs": [
    {
     "data": {
      "text/html": [
       "<div>\n",
       "<style scoped>\n",
       "    .dataframe tbody tr th:only-of-type {\n",
       "        vertical-align: middle;\n",
       "    }\n",
       "\n",
       "    .dataframe tbody tr th {\n",
       "        vertical-align: top;\n",
       "    }\n",
       "\n",
       "    .dataframe thead th {\n",
       "        text-align: right;\n",
       "    }\n",
       "</style>\n",
       "<table border=\"1\" class=\"dataframe\">\n",
       "  <thead>\n",
       "    <tr style=\"text-align: right;\">\n",
       "      <th>category</th>\n",
       "      <th>Amphibian</th>\n",
       "      <th>Bird</th>\n",
       "      <th>Fish</th>\n",
       "      <th>Mammal</th>\n",
       "      <th>Nonvascular Plant</th>\n",
       "      <th>Reptile</th>\n",
       "      <th>Vascular Plant</th>\n",
       "    </tr>\n",
       "    <tr>\n",
       "      <th>conservation_status</th>\n",
       "      <th></th>\n",
       "      <th></th>\n",
       "      <th></th>\n",
       "      <th></th>\n",
       "      <th></th>\n",
       "      <th></th>\n",
       "      <th></th>\n",
       "    </tr>\n",
       "  </thead>\n",
       "  <tbody>\n",
       "    <tr>\n",
       "      <th>Endangered</th>\n",
       "      <td>1</td>\n",
       "      <td>4</td>\n",
       "      <td>3</td>\n",
       "      <td>7</td>\n",
       "      <td>0</td>\n",
       "      <td>0</td>\n",
       "      <td>1</td>\n",
       "    </tr>\n",
       "    <tr>\n",
       "      <th>In Recovery</th>\n",
       "      <td>0</td>\n",
       "      <td>3</td>\n",
       "      <td>0</td>\n",
       "      <td>1</td>\n",
       "      <td>0</td>\n",
       "      <td>0</td>\n",
       "      <td>0</td>\n",
       "    </tr>\n",
       "    <tr>\n",
       "      <th>Species of Concern</th>\n",
       "      <td>4</td>\n",
       "      <td>72</td>\n",
       "      <td>4</td>\n",
       "      <td>28</td>\n",
       "      <td>5</td>\n",
       "      <td>5</td>\n",
       "      <td>43</td>\n",
       "    </tr>\n",
       "    <tr>\n",
       "      <th>Threatened</th>\n",
       "      <td>2</td>\n",
       "      <td>0</td>\n",
       "      <td>4</td>\n",
       "      <td>2</td>\n",
       "      <td>0</td>\n",
       "      <td>0</td>\n",
       "      <td>2</td>\n",
       "    </tr>\n",
       "  </tbody>\n",
       "</table>\n",
       "</div>"
      ],
      "text/plain": [
       "category             Amphibian  Bird  Fish  Mammal  Nonvascular Plant  \\\n",
       "conservation_status                                                     \n",
       "Endangered                   1     4     3       7                  0   \n",
       "In Recovery                  0     3     0       1                  0   \n",
       "Species of Concern           4    72     4      28                  5   \n",
       "Threatened                   2     0     4       2                  0   \n",
       "\n",
       "category             Reptile  Vascular Plant  \n",
       "conservation_status                           \n",
       "Endangered                 0               1  \n",
       "In Recovery                0               0  \n",
       "Species of Concern         5              43  \n",
       "Threatened                 0               2  "
      ]
     },
     "metadata": {},
     "output_type": "display_data"
    },
    {
     "data": {
      "image/png": "[encoded data removed]",
      "text/plain": [
       "<Figure size 800x600 with 1 Axes>"
      ]
     },
     "metadata": {},
     "output_type": "display_data"
    }
   ],
   "source": [
    "filtered_species = species[species['conservation_status'] != 'No Intervention']\n",
    "\n",
    "from IPython.display import display\n",
    "\n",
    "pivot_table = filtered_species.pivot_table(columns='category', index='conservation_status', values='scientific_name', aggfunc='count', fill_value=0)\n",
    "display(pivot_table)\n",
    "\n",
    "# Group by conservation_status and category\n",
    "status_category_counts = filtered_species.groupby(['conservation_status', 'category']).size().unstack(fill_value=0)\n",
    "\n",
    "# Plot stacked bar chart\n",
    "status_category_counts.plot(kind='bar', stacked=True, figsize=(8, 6), colormap='tab20')\n",
    "\n",
    "plt.title('Species by Conservation Status and Category')\n",
    "plt.ylabel('Number of Species', size=12)\n",
    "plt.xlabel('Conservation Status', size=12)\n",
    "plt.xticks(rotation=45)\n",
    "plt.legend(title='Category', bbox_to_anchor=(1.05, 1), loc='upper left')\n",
    "plt.tight_layout()\n",
    "plt.show()"
   ]
  }
 ],
 "metadata": {
  "kernelspec": {
   "display_name": "Python [conda env:base] *",
   "language": "python",
   "name": "conda-base-py"
  },
  "language_info": {
   "codemirror_mode": {
    "name": "ipython",
    "version": 3
   },
   "file_extension": ".py",
   "mimetype": "text/x-python",
   "name": "python",
   "nbconvert_exporter": "python",
   "pygments_lexer": "ipython3",
   "version": "3.12.7"
  }
 },
 "nbformat": 4,
 "nbformat_minor": 5
}
